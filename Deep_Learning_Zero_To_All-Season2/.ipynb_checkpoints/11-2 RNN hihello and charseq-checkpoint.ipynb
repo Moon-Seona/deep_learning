{
 "cells": [
  {
   "cell_type": "markdown",
   "metadata": {},
   "source": [
    "## 11-2-1 charseq\n",
    "- input data shape : 1,14,10\n",
    "- outputs shape : 1,14,10\n",
    "\n",
    "batch size : 1    \n",
    "sequence length : 14 (sample_idx - 1)       \n",
    "input dize, hidden size : 10"
   ]
  },
  {
   "cell_type": "code",
   "execution_count": 63,
   "metadata": {},
   "outputs": [],
   "source": [
    "import torch\n",
    "import torch.optim as optim\n",
    "import numpy as np"
   ]
  },
  {
   "cell_type": "code",
   "execution_count": 14,
   "metadata": {},
   "outputs": [],
   "source": [
    "#torch.manual_seed(0)"
   ]
  },
  {
   "cell_type": "code",
   "execution_count": 74,
   "metadata": {},
   "outputs": [],
   "source": [
    "sample = \"if you want you\""
   ]
  },
  {
   "cell_type": "code",
   "execution_count": 75,
   "metadata": {},
   "outputs": [
    {
     "data": {
      "text/plain": [
       "{' ', 'a', 'f', 'i', 'n', 'o', 't', 'u', 'w', 'y'}"
      ]
     },
     "execution_count": 75,
     "metadata": {},
     "output_type": "execute_result"
    }
   ],
   "source": [
    "set(sample)"
   ]
  },
  {
   "cell_type": "code",
   "execution_count": 76,
   "metadata": {},
   "outputs": [
    {
     "data": {
      "text/plain": [
       "{'u': 0,\n",
       " 'w': 1,\n",
       " 'n': 2,\n",
       " ' ': 3,\n",
       " 'f': 4,\n",
       " 'o': 5,\n",
       " 'i': 6,\n",
       " 'y': 7,\n",
       " 'a': 8,\n",
       " 't': 9}"
      ]
     },
     "execution_count": 76,
     "metadata": {},
     "output_type": "execute_result"
    }
   ],
   "source": [
    "char_set = list(set(sample))\n",
    "char_dic = {c: i for i, c in enumerate(char_set)}\n",
    "char_dic"
   ]
  },
  {
   "cell_type": "code",
   "execution_count": 77,
   "metadata": {},
   "outputs": [
    {
     "data": {
      "text/plain": [
       "10"
      ]
     },
     "execution_count": 77,
     "metadata": {},
     "output_type": "execute_result"
    }
   ],
   "source": [
    "len(char_dic)"
   ]
  },
  {
   "cell_type": "code",
   "execution_count": 78,
   "metadata": {},
   "outputs": [],
   "source": [
    "dic_size = len(char_dic) #10\n",
    "hidden_size = len(char_dic) #10\n",
    "learning_rate = 0.1"
   ]
  },
  {
   "cell_type": "code",
   "execution_count": 79,
   "metadata": {},
   "outputs": [],
   "source": [
    "sample_idx = [char_dic[c] for c in sample]"
   ]
  },
  {
   "cell_type": "code",
   "execution_count": 80,
   "metadata": {},
   "outputs": [
    {
     "data": {
      "text/plain": [
       "[6, 4, 3, 7, 5, 0, 3, 1, 8, 2, 9, 3, 7, 5, 0]"
      ]
     },
     "execution_count": 80,
     "metadata": {},
     "output_type": "execute_result"
    }
   ],
   "source": [
    "sample_idx"
   ]
  },
  {
   "cell_type": "code",
   "execution_count": 87,
   "metadata": {},
   "outputs": [
    {
     "data": {
      "text/plain": [
       "15"
      ]
     },
     "execution_count": 87,
     "metadata": {},
     "output_type": "execute_result"
    }
   ],
   "source": [
    "len(sample_idx)"
   ]
  },
  {
   "cell_type": "markdown",
   "metadata": {},
   "source": [
    "### 1. 'if you want you' 라는 sample을 가지고 2. 'if you want yo'를 입력으로 할 때 3. 'if you want you'라는 결과를 얻으려 한다."
   ]
  },
  {
   "cell_type": "code",
   "execution_count": 81,
   "metadata": {},
   "outputs": [],
   "source": [
    "x_data = [sample_idx[:-1]] # if you want yo"
   ]
  },
  {
   "cell_type": "code",
   "execution_count": 82,
   "metadata": {},
   "outputs": [
    {
     "data": {
      "text/plain": [
       "[array([[0., 0., 0., 0., 0., 0., 1., 0., 0., 0.],\n",
       "        [0., 0., 0., 0., 1., 0., 0., 0., 0., 0.],\n",
       "        [0., 0., 0., 1., 0., 0., 0., 0., 0., 0.],\n",
       "        [0., 0., 0., 0., 0., 0., 0., 1., 0., 0.],\n",
       "        [0., 0., 0., 0., 0., 1., 0., 0., 0., 0.],\n",
       "        [1., 0., 0., 0., 0., 0., 0., 0., 0., 0.],\n",
       "        [0., 0., 0., 1., 0., 0., 0., 0., 0., 0.],\n",
       "        [0., 1., 0., 0., 0., 0., 0., 0., 0., 0.],\n",
       "        [0., 0., 0., 0., 0., 0., 0., 0., 1., 0.],\n",
       "        [0., 0., 1., 0., 0., 0., 0., 0., 0., 0.],\n",
       "        [0., 0., 0., 0., 0., 0., 0., 0., 0., 1.],\n",
       "        [0., 0., 0., 1., 0., 0., 0., 0., 0., 0.],\n",
       "        [0., 0., 0., 0., 0., 0., 0., 1., 0., 0.],\n",
       "        [0., 0., 0., 0., 0., 1., 0., 0., 0., 0.]])]"
      ]
     },
     "execution_count": 82,
     "metadata": {},
     "output_type": "execute_result"
    }
   ],
   "source": [
    "x_one_hot = [np.eye(dic_size)[x] for x in x_data]\n",
    "x_one_hot"
   ]
  },
  {
   "cell_type": "code",
   "execution_count": 83,
   "metadata": {},
   "outputs": [
    {
     "data": {
      "text/plain": [
       "[[4, 3, 7, 5, 0, 3, 1, 8, 2, 9, 3, 7, 5, 0]]"
      ]
     },
     "execution_count": 83,
     "metadata": {},
     "output_type": "execute_result"
    }
   ],
   "source": [
    "y_data = [sample_idx[1:]] #f you want you\n",
    "y_data"
   ]
  },
  {
   "cell_type": "code",
   "execution_count": 84,
   "metadata": {},
   "outputs": [],
   "source": [
    "X = torch.FloatTensor(x_one_hot)\n",
    "Y = torch.LongTensor(y_data)"
   ]
  },
  {
   "cell_type": "code",
   "execution_count": 85,
   "metadata": {},
   "outputs": [],
   "source": [
    "rnn = torch.nn.RNN(dic_size, hidden_size, batch_first=True)"
   ]
  },
  {
   "cell_type": "code",
   "execution_count": 86,
   "metadata": {},
   "outputs": [
    {
     "data": {
      "text/plain": [
       "torch.Size([1, 14, 10])"
      ]
     },
     "execution_count": 86,
     "metadata": {},
     "output_type": "execute_result"
    }
   ],
   "source": [
    "#outputs, _status = rnn(X)\n",
    "#outputs.size()"
   ]
  },
  {
   "cell_type": "code",
   "execution_count": 42,
   "metadata": {},
   "outputs": [],
   "source": [
    "criterion = torch.nn.CrossEntropyLoss()\n",
    "optimizer = optim.Adam(rnn.parameters(), learning_rate)"
   ]
  },
  {
   "cell_type": "code",
   "execution_count": 43,
   "metadata": {},
   "outputs": [
    {
     "name": "stdout",
     "output_type": "stream",
     "text": [
      "0 loss:  2.371142864227295 \n",
      "prediction:  [[2 2 2 3 9 2 4 4 4 4 4 4 3 4]] true Y:  [[4, 3, 7, 5, 0, 3, 1, 8, 2, 9, 3, 7, 5, 0]] \n",
      "prediction str:  nnn tnffffff f\n",
      "1 loss:  2.0195138454437256 \n",
      "prediction:  [[1 3 1 3 0 3 1 3 8 3 3 1 8 0]] true Y:  [[4, 3, 7, 5, 0, 3, 1, 8, 2, 9, 3, 7, 5, 0]] \n",
      "prediction str:  w w u w a  wau\n",
      "2 loss:  1.7427088022232056 \n",
      "prediction:  [[1 3 3 3 0 3 1 3 1 3 3 3 8 0]] true Y:  [[4, 3, 7, 5, 0, 3, 1, 8, 2, 9, 3, 7, 5, 0]] \n",
      "prediction str:  w   u w w   au\n",
      "3 loss:  1.5522267818450928 \n",
      "prediction:  [[1 3 7 3 0 3 1 3 2 3 3 7 5 0]] true Y:  [[4, 3, 7, 5, 0, 3, 1, 8, 2, 9, 3, 7, 5, 0]] \n",
      "prediction str:  w y u w n  you\n",
      "4 loss:  1.4448716640472412 \n",
      "prediction:  [[1 3 7 5 0 3 7 5 2 9 3 7 5 0]] true Y:  [[4, 3, 7, 5, 0, 3, 1, 8, 2, 9, 3, 7, 5, 0]] \n",
      "prediction str:  w you yont you\n",
      "5 loss:  1.3555725812911987 \n",
      "prediction:  [[1 3 7 5 0 3 7 5 2 9 3 7 5 0]] true Y:  [[4, 3, 7, 5, 0, 3, 1, 8, 2, 9, 3, 7, 5, 0]] \n",
      "prediction str:  w you yont you\n",
      "6 loss:  1.2735792398452759 \n",
      "prediction:  [[1 3 7 5 0 3 7 5 2 9 3 7 5 0]] true Y:  [[4, 3, 7, 5, 0, 3, 1, 8, 2, 9, 3, 7, 5, 0]] \n",
      "prediction str:  w you yont you\n",
      "7 loss:  1.1914020776748657 \n",
      "prediction:  [[4 3 7 5 0 3 7 5 2 9 3 7 5 0]] true Y:  [[4, 3, 7, 5, 0, 3, 1, 8, 2, 9, 3, 7, 5, 0]] \n",
      "prediction str:  f you yont you\n",
      "8 loss:  1.119666337966919 \n",
      "prediction:  [[4 3 7 5 0 3 7 5 2 9 3 7 5 0]] true Y:  [[4, 3, 7, 5, 0, 3, 1, 8, 2, 9, 3, 7, 5, 0]] \n",
      "prediction str:  f you yont you\n",
      "9 loss:  1.0753686428070068 \n",
      "prediction:  [[4 3 7 5 0 3 7 5 2 9 3 7 5 0]] true Y:  [[4, 3, 7, 5, 0, 3, 1, 8, 2, 9, 3, 7, 5, 0]] \n",
      "prediction str:  f you yont you\n",
      "10 loss:  1.0293012857437134 \n",
      "prediction:  [[4 3 7 5 0 3 7 5 2 9 3 7 5 0]] true Y:  [[4, 3, 7, 5, 0, 3, 1, 8, 2, 9, 3, 7, 5, 0]] \n",
      "prediction str:  f you yont you\n",
      "11 loss:  1.002051591873169 \n",
      "prediction:  [[4 3 7 5 0 3 1 5 2 9 3 7 5 0]] true Y:  [[4, 3, 7, 5, 0, 3, 1, 8, 2, 9, 3, 7, 5, 0]] \n",
      "prediction str:  f you wont you\n",
      "12 loss:  0.9841469526290894 \n",
      "prediction:  [[4 3 7 5 0 3 1 5 2 9 3 7 5 0]] true Y:  [[4, 3, 7, 5, 0, 3, 1, 8, 2, 9, 3, 7, 5, 0]] \n",
      "prediction str:  f you wont you\n",
      "13 loss:  0.9669398069381714 \n",
      "prediction:  [[4 3 7 5 0 3 1 5 2 9 3 7 5 0]] true Y:  [[4, 3, 7, 5, 0, 3, 1, 8, 2, 9, 3, 7, 5, 0]] \n",
      "prediction str:  f you wont you\n",
      "14 loss:  0.9527562260627747 \n",
      "prediction:  [[4 3 7 5 0 3 1 5 2 9 3 7 5 0]] true Y:  [[4, 3, 7, 5, 0, 3, 1, 8, 2, 9, 3, 7, 5, 0]] \n",
      "prediction str:  f you wont you\n",
      "15 loss:  0.9392784833908081 \n",
      "prediction:  [[4 3 7 5 0 3 1 5 2 9 3 7 5 0]] true Y:  [[4, 3, 7, 5, 0, 3, 1, 8, 2, 9, 3, 7, 5, 0]] \n",
      "prediction str:  f you wont you\n",
      "16 loss:  0.929295539855957 \n",
      "prediction:  [[4 3 7 5 0 3 1 5 2 9 3 7 5 0]] true Y:  [[4, 3, 7, 5, 0, 3, 1, 8, 2, 9, 3, 7, 5, 0]] \n",
      "prediction str:  f you wont you\n",
      "17 loss:  0.920865535736084 \n",
      "prediction:  [[4 3 7 5 0 3 1 5 2 9 3 7 5 0]] true Y:  [[4, 3, 7, 5, 0, 3, 1, 8, 2, 9, 3, 7, 5, 0]] \n",
      "prediction str:  f you wont you\n",
      "18 loss:  0.9134622812271118 \n",
      "prediction:  [[4 3 7 5 0 3 1 5 2 9 3 7 5 0]] true Y:  [[4, 3, 7, 5, 0, 3, 1, 8, 2, 9, 3, 7, 5, 0]] \n",
      "prediction str:  f you wont you\n",
      "19 loss:  0.9052425622940063 \n",
      "prediction:  [[4 3 7 5 0 3 1 5 2 9 3 7 5 0]] true Y:  [[4, 3, 7, 5, 0, 3, 1, 8, 2, 9, 3, 7, 5, 0]] \n",
      "prediction str:  f you wont you\n",
      "20 loss:  0.8967328667640686 \n",
      "prediction:  [[4 3 7 5 0 3 1 5 2 9 3 7 5 0]] true Y:  [[4, 3, 7, 5, 0, 3, 1, 8, 2, 9, 3, 7, 5, 0]] \n",
      "prediction str:  f you wont you\n",
      "21 loss:  0.8882746696472168 \n",
      "prediction:  [[4 3 7 5 0 3 1 5 2 9 3 7 5 0]] true Y:  [[4, 3, 7, 5, 0, 3, 1, 8, 2, 9, 3, 7, 5, 0]] \n",
      "prediction str:  f you wont you\n",
      "22 loss:  0.8808361291885376 \n",
      "prediction:  [[4 3 7 5 0 3 1 5 2 9 3 7 5 0]] true Y:  [[4, 3, 7, 5, 0, 3, 1, 8, 2, 9, 3, 7, 5, 0]] \n",
      "prediction str:  f you wont you\n",
      "23 loss:  0.8786792159080505 \n",
      "prediction:  [[4 3 7 5 0 3 1 5 2 9 3 7 5 0]] true Y:  [[4, 3, 7, 5, 0, 3, 1, 8, 2, 9, 3, 7, 5, 0]] \n",
      "prediction str:  f you wont you\n",
      "24 loss:  0.8759937286376953 \n",
      "prediction:  [[4 3 7 5 0 3 1 5 2 9 3 7 5 0]] true Y:  [[4, 3, 7, 5, 0, 3, 1, 8, 2, 9, 3, 7, 5, 0]] \n",
      "prediction str:  f you wont you\n",
      "25 loss:  0.8704896569252014 \n",
      "prediction:  [[4 3 7 5 0 3 1 5 2 9 3 7 5 0]] true Y:  [[4, 3, 7, 5, 0, 3, 1, 8, 2, 9, 3, 7, 5, 0]] \n",
      "prediction str:  f you wont you\n",
      "26 loss:  0.8696580529212952 \n",
      "prediction:  [[4 3 7 5 0 3 1 5 2 9 3 7 5 0]] true Y:  [[4, 3, 7, 5, 0, 3, 1, 8, 2, 9, 3, 7, 5, 0]] \n",
      "prediction str:  f you wont you\n",
      "27 loss:  0.8684592843055725 \n",
      "prediction:  [[4 3 7 5 0 3 1 5 2 9 3 7 5 0]] true Y:  [[4, 3, 7, 5, 0, 3, 1, 8, 2, 9, 3, 7, 5, 0]] \n",
      "prediction str:  f you wont you\n",
      "28 loss:  0.8649052381515503 \n",
      "prediction:  [[4 3 7 5 0 3 1 5 2 9 3 7 5 0]] true Y:  [[4, 3, 7, 5, 0, 3, 1, 8, 2, 9, 3, 7, 5, 0]] \n",
      "prediction str:  f you wont you\n",
      "29 loss:  0.8635519742965698 \n",
      "prediction:  [[4 3 7 5 0 3 1 5 2 9 3 7 5 0]] true Y:  [[4, 3, 7, 5, 0, 3, 1, 8, 2, 9, 3, 7, 5, 0]] \n",
      "prediction str:  f you wont you\n",
      "30 loss:  0.8630099892616272 \n",
      "prediction:  [[4 3 7 5 0 3 1 5 2 9 3 7 5 0]] true Y:  [[4, 3, 7, 5, 0, 3, 1, 8, 2, 9, 3, 7, 5, 0]] \n",
      "prediction str:  f you wont you\n",
      "31 loss:  0.860312819480896 \n",
      "prediction:  [[4 3 7 5 0 3 1 5 2 9 3 7 5 0]] true Y:  [[4, 3, 7, 5, 0, 3, 1, 8, 2, 9, 3, 7, 5, 0]] \n",
      "prediction str:  f you wont you\n",
      "32 loss:  0.8577176332473755 \n",
      "prediction:  [[4 3 7 5 0 3 1 5 2 9 3 7 5 0]] true Y:  [[4, 3, 7, 5, 0, 3, 1, 8, 2, 9, 3, 7, 5, 0]] \n",
      "prediction str:  f you wont you\n",
      "33 loss:  0.8565571904182434 \n",
      "prediction:  [[4 3 7 5 0 3 1 5 2 9 3 7 5 0]] true Y:  [[4, 3, 7, 5, 0, 3, 1, 8, 2, 9, 3, 7, 5, 0]] \n",
      "prediction str:  f you wont you\n",
      "34 loss:  0.8550750613212585 \n",
      "prediction:  [[4 3 7 5 0 3 1 5 2 9 3 7 5 0]] true Y:  [[4, 3, 7, 5, 0, 3, 1, 8, 2, 9, 3, 7, 5, 0]] \n",
      "prediction str:  f you wont you\n",
      "35 loss:  0.8532633781433105 \n",
      "prediction:  [[4 3 7 5 0 3 1 5 2 9 3 7 5 0]] true Y:  [[4, 3, 7, 5, 0, 3, 1, 8, 2, 9, 3, 7, 5, 0]] \n",
      "prediction str:  f you wont you\n",
      "36 loss:  0.8527676463127136 \n",
      "prediction:  [[4 3 7 5 0 3 1 5 2 9 3 7 5 0]] true Y:  [[4, 3, 7, 5, 0, 3, 1, 8, 2, 9, 3, 7, 5, 0]] \n",
      "prediction str:  f you wont you\n",
      "37 loss:  0.8514760136604309 \n",
      "prediction:  [[4 3 7 5 0 3 1 5 2 9 3 7 5 0]] true Y:  [[4, 3, 7, 5, 0, 3, 1, 8, 2, 9, 3, 7, 5, 0]] \n",
      "prediction str:  f you wont you\n",
      "38 loss:  0.8497414588928223 \n",
      "prediction:  [[4 3 7 5 0 3 1 5 2 9 3 7 5 0]] true Y:  [[4, 3, 7, 5, 0, 3, 1, 8, 2, 9, 3, 7, 5, 0]] \n",
      "prediction str:  f you wont you\n",
      "39 loss:  0.8490525484085083 \n",
      "prediction:  [[4 3 7 5 0 3 1 5 2 9 3 7 5 0]] true Y:  [[4, 3, 7, 5, 0, 3, 1, 8, 2, 9, 3, 7, 5, 0]] \n",
      "prediction str:  f you wont you\n",
      "40 loss:  0.8485085368156433 \n",
      "prediction:  [[4 3 7 5 0 3 1 5 2 9 3 7 5 0]] true Y:  [[4, 3, 7, 5, 0, 3, 1, 8, 2, 9, 3, 7, 5, 0]] \n",
      "prediction str:  f you wont you\n",
      "41 loss:  0.8475536704063416 \n",
      "prediction:  [[4 3 7 5 0 3 1 5 2 9 3 7 5 0]] true Y:  [[4, 3, 7, 5, 0, 3, 1, 8, 2, 9, 3, 7, 5, 0]] \n",
      "prediction str:  f you wont you\n",
      "42 loss:  0.8469480872154236 \n",
      "prediction:  [[4 3 7 5 0 3 1 5 2 9 3 7 5 0]] true Y:  [[4, 3, 7, 5, 0, 3, 1, 8, 2, 9, 3, 7, 5, 0]] \n",
      "prediction str:  f you wont you\n",
      "43 loss:  0.8466404676437378 \n",
      "prediction:  [[4 3 7 5 0 3 1 5 2 9 3 7 5 0]] true Y:  [[4, 3, 7, 5, 0, 3, 1, 8, 2, 9, 3, 7, 5, 0]] \n",
      "prediction str:  f you wont you\n",
      "44 loss:  0.8460554480552673 \n",
      "prediction:  [[4 3 7 5 0 3 1 5 2 9 3 7 5 0]] true Y:  [[4, 3, 7, 5, 0, 3, 1, 8, 2, 9, 3, 7, 5, 0]] \n",
      "prediction str:  f you wont you\n",
      "45 loss:  0.8453139662742615 \n",
      "prediction:  [[4 3 7 5 0 3 1 5 2 9 3 7 5 0]] true Y:  [[4, 3, 7, 5, 0, 3, 1, 8, 2, 9, 3, 7, 5, 0]] \n",
      "prediction str:  f you wont you\n",
      "46 loss:  0.8448941111564636 \n",
      "prediction:  [[4 3 7 5 0 3 1 5 2 9 3 7 5 0]] true Y:  [[4, 3, 7, 5, 0, 3, 1, 8, 2, 9, 3, 7, 5, 0]] \n",
      "prediction str:  f you wont you\n",
      "47 loss:  0.844579815864563 \n",
      "prediction:  [[4 3 7 5 0 3 1 5 2 9 3 7 5 0]] true Y:  [[4, 3, 7, 5, 0, 3, 1, 8, 2, 9, 3, 7, 5, 0]] \n",
      "prediction str:  f you wont you\n",
      "48 loss:  0.8439739346504211 \n",
      "prediction:  [[4 3 7 5 0 3 1 5 2 9 3 7 5 0]] true Y:  [[4, 3, 7, 5, 0, 3, 1, 8, 2, 9, 3, 7, 5, 0]] \n",
      "prediction str:  f you wont you\n",
      "49 loss:  0.8435203433036804 \n",
      "prediction:  [[4 3 7 5 0 3 1 5 2 9 3 7 5 0]] true Y:  [[4, 3, 7, 5, 0, 3, 1, 8, 2, 9, 3, 7, 5, 0]] \n",
      "prediction str:  f you wont you\n"
     ]
    }
   ],
   "source": [
    "for i in range(50):\n",
    "    optimizer.zero_grad()\n",
    "    outputs, _status = rnn(X)\n",
    "    loss = criterion(outputs.view(-1, dic_size), Y.view(-1))\n",
    "    loss.backward()\n",
    "    optimizer.step()\n",
    "\n",
    "    result = outputs.data.numpy().argmax(axis=2)\n",
    "    result_str = ''.join([char_set[c] for c in np.squeeze(result)])\n",
    "    print(i, \"loss: \", loss.item(), \"\\nprediction: \", result, \"true Y: \", y_data, \"\\nprediction str: \", result_str)"
   ]
  },
  {
   "cell_type": "markdown",
   "metadata": {},
   "source": [
    "## 11-2-2 hihello\n",
    "- input data shape : 1,6,5\n",
    "- outputs shape : 1,6,5\n",
    "\n",
    "batch : 1     \n",
    "sequence length : 6    \n",
    "input size, hidden size : 5    "
   ]
  },
  {
   "cell_type": "code",
   "execution_count": 64,
   "metadata": {},
   "outputs": [],
   "source": [
    "char_set = ['h', 'i', 'e', 'l', 'o']"
   ]
  },
  {
   "cell_type": "code",
   "execution_count": 65,
   "metadata": {},
   "outputs": [],
   "source": [
    "input_size = len(char_set)\n",
    "hidden_size = len(char_set)\n",
    "learning_rate = 0.1"
   ]
  },
  {
   "cell_type": "code",
   "execution_count": 67,
   "metadata": {},
   "outputs": [
    {
     "data": {
      "text/plain": [
       "5"
      ]
     },
     "execution_count": 67,
     "metadata": {},
     "output_type": "execute_result"
    }
   ],
   "source": [
    "hidden_size"
   ]
  },
  {
   "cell_type": "markdown",
   "metadata": {},
   "source": [
    "### 1. hi hell 을 입력하면 2. i hello 라는 결과를 얻으려 한다."
   ]
  },
  {
   "cell_type": "code",
   "execution_count": 68,
   "metadata": {},
   "outputs": [],
   "source": [
    "x_data = [[0, 1, 0, 2, 3, 3]] # hihell\n",
    "x_one_hot = [[[1, 0, 0, 0, 0],\n",
    "              [0, 1, 0, 0, 0],\n",
    "              [1, 0, 0, 0, 0],\n",
    "              [0, 0, 1, 0, 0],\n",
    "              [0, 0, 0, 1, 0],\n",
    "              [0, 0, 0, 1, 0]]]\n",
    "y_data = [[1, 0, 2, 3, 3, 4]] # ihello"
   ]
  },
  {
   "cell_type": "code",
   "execution_count": 69,
   "metadata": {},
   "outputs": [],
   "source": [
    "X = torch.FloatTensor(x_one_hot)\n",
    "Y = torch.LongTensor(y_data)"
   ]
  },
  {
   "cell_type": "code",
   "execution_count": 70,
   "metadata": {},
   "outputs": [],
   "source": [
    "rnn = torch.nn.RNN(input_size, hidden_size, batch_first=True)"
   ]
  },
  {
   "cell_type": "code",
   "execution_count": 73,
   "metadata": {},
   "outputs": [
    {
     "data": {
      "text/plain": [
       "torch.Size([1, 6, 5])"
      ]
     },
     "execution_count": 73,
     "metadata": {},
     "output_type": "execute_result"
    }
   ],
   "source": [
    "#outputs, _status = rnn(X)\n",
    "#outputs.size()"
   ]
  },
  {
   "cell_type": "code",
   "execution_count": 61,
   "metadata": {},
   "outputs": [],
   "source": [
    "criterion = torch.nn.CrossEntropyLoss()\n",
    "optimizer = optim.Adam(rnn.parameters(), learning_rate)"
   ]
  },
  {
   "cell_type": "code",
   "execution_count": 62,
   "metadata": {},
   "outputs": [
    {
     "name": "stdout",
     "output_type": "stream",
     "text": [
      "0 loss:  1.5358463525772095 \n",
      "prediction:  [[0 3 1 0 3 1]] true Y:  [[1, 0, 2, 3, 3, 4]] \n",
      "prediction str:  hlihli\n",
      "1 loss:  1.3454780578613281 \n",
      "prediction:  [[0 3 1 0 3 3]] true Y:  [[1, 0, 2, 3, 3, 4]] \n",
      "prediction str:  hlihll\n",
      "2 loss:  1.2153433561325073 \n",
      "prediction:  [[1 3 2 0 3 2]] true Y:  [[1, 0, 2, 3, 3, 4]] \n",
      "prediction str:  ilehle\n",
      "3 loss:  1.1022449731826782 \n",
      "prediction:  [[1 3 2 0 3 4]] true Y:  [[1, 0, 2, 3, 3, 4]] \n",
      "prediction str:  ilehlo\n",
      "4 loss:  1.0228393077850342 \n",
      "prediction:  [[1 3 2 3 3 4]] true Y:  [[1, 0, 2, 3, 3, 4]] \n",
      "prediction str:  ilello\n",
      "5 loss:  0.9620204567909241 \n",
      "prediction:  [[1 0 2 3 3 4]] true Y:  [[1, 0, 2, 3, 3, 4]] \n",
      "prediction str:  ihello\n",
      "6 loss:  0.9053143858909607 \n",
      "prediction:  [[1 0 2 3 3 4]] true Y:  [[1, 0, 2, 3, 3, 4]] \n",
      "prediction str:  ihello\n",
      "7 loss:  0.8524362444877625 \n",
      "prediction:  [[1 0 2 3 3 4]] true Y:  [[1, 0, 2, 3, 3, 4]] \n",
      "prediction str:  ihello\n",
      "8 loss:  0.8130447864532471 \n",
      "prediction:  [[1 0 1 3 3 4]] true Y:  [[1, 0, 2, 3, 3, 4]] \n",
      "prediction str:  ihillo\n",
      "9 loss:  0.7901501059532166 \n",
      "prediction:  [[1 0 1 3 3 4]] true Y:  [[1, 0, 2, 3, 3, 4]] \n",
      "prediction str:  ihillo\n",
      "10 loss:  0.775169312953949 \n",
      "prediction:  [[1 0 1 3 3 4]] true Y:  [[1, 0, 2, 3, 3, 4]] \n",
      "prediction str:  ihillo\n",
      "11 loss:  0.7534783482551575 \n",
      "prediction:  [[1 0 1 3 3 4]] true Y:  [[1, 0, 2, 3, 3, 4]] \n",
      "prediction str:  ihillo\n",
      "12 loss:  0.7305434346199036 \n",
      "prediction:  [[1 0 2 3 3 4]] true Y:  [[1, 0, 2, 3, 3, 4]] \n",
      "prediction str:  ihello\n",
      "13 loss:  0.7129964828491211 \n",
      "prediction:  [[1 0 2 3 3 4]] true Y:  [[1, 0, 2, 3, 3, 4]] \n",
      "prediction str:  ihello\n",
      "14 loss:  0.6999223232269287 \n",
      "prediction:  [[1 0 2 3 3 4]] true Y:  [[1, 0, 2, 3, 3, 4]] \n",
      "prediction str:  ihello\n",
      "15 loss:  0.690740168094635 \n",
      "prediction:  [[1 0 2 3 3 4]] true Y:  [[1, 0, 2, 3, 3, 4]] \n",
      "prediction str:  ihello\n",
      "16 loss:  0.6831314563751221 \n",
      "prediction:  [[1 0 2 3 3 4]] true Y:  [[1, 0, 2, 3, 3, 4]] \n",
      "prediction str:  ihello\n",
      "17 loss:  0.6775915026664734 \n",
      "prediction:  [[1 0 2 3 3 4]] true Y:  [[1, 0, 2, 3, 3, 4]] \n",
      "prediction str:  ihello\n",
      "18 loss:  0.6881263852119446 \n",
      "prediction:  [[1 0 2 3 3 4]] true Y:  [[1, 0, 2, 3, 3, 4]] \n",
      "prediction str:  ihello\n",
      "19 loss:  0.6821585297584534 \n",
      "prediction:  [[1 0 2 3 3 4]] true Y:  [[1, 0, 2, 3, 3, 4]] \n",
      "prediction str:  ihello\n",
      "20 loss:  0.6668498516082764 \n",
      "prediction:  [[1 0 2 3 3 4]] true Y:  [[1, 0, 2, 3, 3, 4]] \n",
      "prediction str:  ihello\n",
      "21 loss:  0.6427359580993652 \n",
      "prediction:  [[1 0 2 3 3 4]] true Y:  [[1, 0, 2, 3, 3, 4]] \n",
      "prediction str:  ihello\n",
      "22 loss:  0.6568180918693542 \n",
      "prediction:  [[1 0 2 3 3 4]] true Y:  [[1, 0, 2, 3, 3, 4]] \n",
      "prediction str:  ihello\n",
      "23 loss:  0.6436964869499207 \n",
      "prediction:  [[1 0 2 3 3 4]] true Y:  [[1, 0, 2, 3, 3, 4]] \n",
      "prediction str:  ihello\n",
      "24 loss:  0.6311208009719849 \n",
      "prediction:  [[1 0 2 3 3 4]] true Y:  [[1, 0, 2, 3, 3, 4]] \n",
      "prediction str:  ihello\n",
      "25 loss:  0.6266666650772095 \n",
      "prediction:  [[1 0 2 3 3 4]] true Y:  [[1, 0, 2, 3, 3, 4]] \n",
      "prediction str:  ihello\n",
      "26 loss:  0.6286209225654602 \n",
      "prediction:  [[1 0 2 3 3 4]] true Y:  [[1, 0, 2, 3, 3, 4]] \n",
      "prediction str:  ihello\n",
      "27 loss:  0.6178930401802063 \n",
      "prediction:  [[1 0 2 3 3 4]] true Y:  [[1, 0, 2, 3, 3, 4]] \n",
      "prediction str:  ihello\n",
      "28 loss:  0.6153257489204407 \n",
      "prediction:  [[1 0 2 3 3 4]] true Y:  [[1, 0, 2, 3, 3, 4]] \n",
      "prediction str:  ihello\n",
      "29 loss:  0.6156145930290222 \n",
      "prediction:  [[1 0 2 3 3 4]] true Y:  [[1, 0, 2, 3, 3, 4]] \n",
      "prediction str:  ihello\n",
      "30 loss:  0.6137215495109558 \n",
      "prediction:  [[1 0 2 3 3 4]] true Y:  [[1, 0, 2, 3, 3, 4]] \n",
      "prediction str:  ihello\n",
      "31 loss:  0.6096041798591614 \n",
      "prediction:  [[1 0 2 3 3 4]] true Y:  [[1, 0, 2, 3, 3, 4]] \n",
      "prediction str:  ihello\n",
      "32 loss:  0.6052694320678711 \n",
      "prediction:  [[1 0 2 3 3 4]] true Y:  [[1, 0, 2, 3, 3, 4]] \n",
      "prediction str:  ihello\n",
      "33 loss:  0.6025717258453369 \n",
      "prediction:  [[1 0 2 3 3 4]] true Y:  [[1, 0, 2, 3, 3, 4]] \n",
      "prediction str:  ihello\n",
      "34 loss:  0.6012852787971497 \n",
      "prediction:  [[1 0 2 3 3 4]] true Y:  [[1, 0, 2, 3, 3, 4]] \n",
      "prediction str:  ihello\n",
      "35 loss:  0.5997800230979919 \n",
      "prediction:  [[1 0 2 3 3 4]] true Y:  [[1, 0, 2, 3, 3, 4]] \n",
      "prediction str:  ihello\n",
      "36 loss:  0.5969356298446655 \n",
      "prediction:  [[1 0 2 3 3 4]] true Y:  [[1, 0, 2, 3, 3, 4]] \n",
      "prediction str:  ihello\n",
      "37 loss:  0.5930492281913757 \n",
      "prediction:  [[1 0 2 3 3 4]] true Y:  [[1, 0, 2, 3, 3, 4]] \n",
      "prediction str:  ihello\n",
      "38 loss:  0.5896100997924805 \n",
      "prediction:  [[1 0 2 3 3 4]] true Y:  [[1, 0, 2, 3, 3, 4]] \n",
      "prediction str:  ihello\n",
      "39 loss:  0.5871132612228394 \n",
      "prediction:  [[1 0 2 3 3 4]] true Y:  [[1, 0, 2, 3, 3, 4]] \n",
      "prediction str:  ihello\n",
      "40 loss:  0.5850110650062561 \n",
      "prediction:  [[1 0 2 3 3 4]] true Y:  [[1, 0, 2, 3, 3, 4]] \n",
      "prediction str:  ihello\n",
      "41 loss:  0.5827733874320984 \n",
      "prediction:  [[1 0 2 3 3 4]] true Y:  [[1, 0, 2, 3, 3, 4]] \n",
      "prediction str:  ihello\n",
      "42 loss:  0.580316960811615 \n",
      "prediction:  [[1 0 2 3 3 4]] true Y:  [[1, 0, 2, 3, 3, 4]] \n",
      "prediction str:  ihello\n",
      "43 loss:  0.5777058005332947 \n",
      "prediction:  [[1 0 2 3 3 4]] true Y:  [[1, 0, 2, 3, 3, 4]] \n",
      "prediction str:  ihello\n",
      "44 loss:  0.5745618939399719 \n",
      "prediction:  [[1 0 2 3 3 4]] true Y:  [[1, 0, 2, 3, 3, 4]] \n",
      "prediction str:  ihello\n",
      "45 loss:  0.5711163878440857 \n",
      "prediction:  [[1 0 2 3 3 4]] true Y:  [[1, 0, 2, 3, 3, 4]] \n",
      "prediction str:  ihello\n",
      "46 loss:  0.5686133503913879 \n",
      "prediction:  [[1 0 2 3 3 4]] true Y:  [[1, 0, 2, 3, 3, 4]] \n",
      "prediction str:  ihello\n",
      "47 loss:  0.566890299320221 \n",
      "prediction:  [[1 0 2 3 3 4]] true Y:  [[1, 0, 2, 3, 3, 4]] \n",
      "prediction str:  ihello\n",
      "48 loss:  0.5644558072090149 \n",
      "prediction:  [[1 0 2 3 3 4]] true Y:  [[1, 0, 2, 3, 3, 4]] \n",
      "prediction str:  ihello\n",
      "49 loss:  0.5611563324928284 \n",
      "prediction:  [[1 0 2 3 3 4]] true Y:  [[1, 0, 2, 3, 3, 4]] \n",
      "prediction str:  ihello\n",
      "50 loss:  0.5582473874092102 \n",
      "prediction:  [[1 0 2 3 3 4]] true Y:  [[1, 0, 2, 3, 3, 4]] \n",
      "prediction str:  ihello\n",
      "51 loss:  0.5562273263931274 \n",
      "prediction:  [[1 0 2 3 3 4]] true Y:  [[1, 0, 2, 3, 3, 4]] \n",
      "prediction str:  ihello\n",
      "52 loss:  0.5544853806495667 \n",
      "prediction:  [[1 0 2 3 3 4]] true Y:  [[1, 0, 2, 3, 3, 4]] \n",
      "prediction str:  ihello\n",
      "53 loss:  0.5524797439575195 \n",
      "prediction:  [[1 0 2 3 3 4]] true Y:  [[1, 0, 2, 3, 3, 4]] \n",
      "prediction str:  ihello\n",
      "54 loss:  0.5503852963447571 \n",
      "prediction:  [[1 0 2 3 3 4]] true Y:  [[1, 0, 2, 3, 3, 4]] \n",
      "prediction str:  ihello\n",
      "55 loss:  0.5485652685165405 \n",
      "prediction:  [[1 0 2 3 3 4]] true Y:  [[1, 0, 2, 3, 3, 4]] \n",
      "prediction str:  ihello\n",
      "56 loss:  0.5469492673873901 \n",
      "prediction:  [[1 0 2 3 3 4]] true Y:  [[1, 0, 2, 3, 3, 4]] \n",
      "prediction str:  ihello\n",
      "57 loss:  0.5451656579971313 \n",
      "prediction:  [[1 0 2 3 3 4]] true Y:  [[1, 0, 2, 3, 3, 4]] \n",
      "prediction str:  ihello\n",
      "58 loss:  0.543157160282135 \n",
      "prediction:  [[1 0 2 3 3 4]] true Y:  [[1, 0, 2, 3, 3, 4]] \n",
      "prediction str:  ihello\n",
      "59 loss:  0.5412556529045105 \n",
      "prediction:  [[1 0 2 3 3 4]] true Y:  [[1, 0, 2, 3, 3, 4]] \n",
      "prediction str:  ihello\n",
      "60 loss:  0.5396613478660583 \n",
      "prediction:  [[1 0 2 3 3 4]] true Y:  [[1, 0, 2, 3, 3, 4]] \n",
      "prediction str:  ihello\n",
      "61 loss:  0.5381820797920227 \n",
      "prediction:  [[1 0 2 3 3 4]] true Y:  [[1, 0, 2, 3, 3, 4]] \n",
      "prediction str:  ihello\n",
      "62 loss:  0.5365614295005798 \n",
      "prediction:  [[1 0 2 3 3 4]] true Y:  [[1, 0, 2, 3, 3, 4]] \n",
      "prediction str:  ihello\n",
      "63 loss:  0.5349264144897461 \n",
      "prediction:  [[1 0 2 3 3 4]] true Y:  [[1, 0, 2, 3, 3, 4]] \n",
      "prediction str:  ihello\n",
      "64 loss:  0.5334513783454895 \n",
      "prediction:  [[1 0 2 3 3 4]] true Y:  [[1, 0, 2, 3, 3, 4]] \n",
      "prediction str:  ihello\n",
      "65 loss:  0.5320027470588684 \n",
      "prediction:  [[1 0 2 3 3 4]] true Y:  [[1, 0, 2, 3, 3, 4]] \n",
      "prediction str:  ihello\n",
      "66 loss:  0.5304421186447144 \n",
      "prediction:  [[1 0 2 3 3 4]] true Y:  [[1, 0, 2, 3, 3, 4]] \n",
      "prediction str:  ihello\n",
      "67 loss:  0.5288704037666321 \n",
      "prediction:  [[1 0 2 3 3 4]] true Y:  [[1, 0, 2, 3, 3, 4]] \n",
      "prediction str:  ihello\n",
      "68 loss:  0.5274237990379333 \n",
      "prediction:  [[1 0 2 3 3 4]] true Y:  [[1, 0, 2, 3, 3, 4]] \n",
      "prediction str:  ihello\n",
      "69 loss:  0.5260654091835022 \n",
      "prediction:  [[1 0 2 3 3 4]] true Y:  [[1, 0, 2, 3, 3, 4]] \n",
      "prediction str:  ihello\n",
      "70 loss:  0.5247063040733337 \n",
      "prediction:  [[1 0 2 3 3 4]] true Y:  [[1, 0, 2, 3, 3, 4]] \n",
      "prediction str:  ihello\n",
      "71 loss:  0.5233516693115234 \n",
      "prediction:  [[1 0 2 3 3 4]] true Y:  [[1, 0, 2, 3, 3, 4]] \n",
      "prediction str:  ihello\n"
     ]
    },
    {
     "name": "stdout",
     "output_type": "stream",
     "text": [
      "72 loss:  0.5220189690589905 \n",
      "prediction:  [[1 0 2 3 3 4]] true Y:  [[1, 0, 2, 3, 3, 4]] \n",
      "prediction str:  ihello\n",
      "73 loss:  0.5206850171089172 \n",
      "prediction:  [[1 0 2 3 3 4]] true Y:  [[1, 0, 2, 3, 3, 4]] \n",
      "prediction str:  ihello\n",
      "74 loss:  0.5193470120429993 \n",
      "prediction:  [[1 0 2 3 3 4]] true Y:  [[1, 0, 2, 3, 3, 4]] \n",
      "prediction str:  ihello\n",
      "75 loss:  0.5180331468582153 \n",
      "prediction:  [[1 0 2 3 3 4]] true Y:  [[1, 0, 2, 3, 3, 4]] \n",
      "prediction str:  ihello\n",
      "76 loss:  0.5167470574378967 \n",
      "prediction:  [[1 0 2 3 3 4]] true Y:  [[1, 0, 2, 3, 3, 4]] \n",
      "prediction str:  ihello\n",
      "77 loss:  0.51546311378479 \n",
      "prediction:  [[1 0 2 3 3 4]] true Y:  [[1, 0, 2, 3, 3, 4]] \n",
      "prediction str:  ihello\n",
      "78 loss:  0.514179527759552 \n",
      "prediction:  [[1 0 2 3 3 4]] true Y:  [[1, 0, 2, 3, 3, 4]] \n",
      "prediction str:  ihello\n",
      "79 loss:  0.5129181146621704 \n",
      "prediction:  [[1 0 2 3 3 4]] true Y:  [[1, 0, 2, 3, 3, 4]] \n",
      "prediction str:  ihello\n",
      "80 loss:  0.5116776823997498 \n",
      "prediction:  [[1 0 2 3 3 4]] true Y:  [[1, 0, 2, 3, 3, 4]] \n",
      "prediction str:  ihello\n",
      "81 loss:  0.5104416012763977 \n",
      "prediction:  [[1 0 2 3 3 4]] true Y:  [[1, 0, 2, 3, 3, 4]] \n",
      "prediction str:  ihello\n",
      "82 loss:  0.5092107653617859 \n",
      "prediction:  [[1 0 2 3 3 4]] true Y:  [[1, 0, 2, 3, 3, 4]] \n",
      "prediction str:  ihello\n",
      "83 loss:  0.5079944729804993 \n",
      "prediction:  [[1 0 2 3 3 4]] true Y:  [[1, 0, 2, 3, 3, 4]] \n",
      "prediction str:  ihello\n",
      "84 loss:  0.5067882537841797 \n",
      "prediction:  [[1 0 2 3 3 4]] true Y:  [[1, 0, 2, 3, 3, 4]] \n",
      "prediction str:  ihello\n",
      "85 loss:  0.5055878162384033 \n",
      "prediction:  [[1 0 2 3 3 4]] true Y:  [[1, 0, 2, 3, 3, 4]] \n",
      "prediction str:  ihello\n",
      "86 loss:  0.5044016242027283 \n",
      "prediction:  [[1 0 2 3 3 4]] true Y:  [[1, 0, 2, 3, 3, 4]] \n",
      "prediction str:  ihello\n",
      "87 loss:  0.503232479095459 \n",
      "prediction:  [[1 0 2 3 3 4]] true Y:  [[1, 0, 2, 3, 3, 4]] \n",
      "prediction str:  ihello\n",
      "88 loss:  0.5020728707313538 \n",
      "prediction:  [[1 0 2 3 3 4]] true Y:  [[1, 0, 2, 3, 3, 4]] \n",
      "prediction str:  ihello\n",
      "89 loss:  0.5009211897850037 \n",
      "prediction:  [[1 0 2 3 3 4]] true Y:  [[1, 0, 2, 3, 3, 4]] \n",
      "prediction str:  ihello\n",
      "90 loss:  0.4997832477092743 \n",
      "prediction:  [[1 0 2 3 3 4]] true Y:  [[1, 0, 2, 3, 3, 4]] \n",
      "prediction str:  ihello\n",
      "91 loss:  0.4986594617366791 \n",
      "prediction:  [[1 0 2 3 3 4]] true Y:  [[1, 0, 2, 3, 3, 4]] \n",
      "prediction str:  ihello\n",
      "92 loss:  0.4975471794605255 \n",
      "prediction:  [[1 0 2 3 3 4]] true Y:  [[1, 0, 2, 3, 3, 4]] \n",
      "prediction str:  ihello\n",
      "93 loss:  0.4964507520198822 \n",
      "prediction:  [[1 0 2 3 3 4]] true Y:  [[1, 0, 2, 3, 3, 4]] \n",
      "prediction str:  ihello\n",
      "94 loss:  0.49537572264671326 \n",
      "prediction:  [[1 0 2 3 3 4]] true Y:  [[1, 0, 2, 3, 3, 4]] \n",
      "prediction str:  ihello\n",
      "95 loss:  0.494321346282959 \n",
      "prediction:  [[1 0 2 3 3 4]] true Y:  [[1, 0, 2, 3, 3, 4]] \n",
      "prediction str:  ihello\n",
      "96 loss:  0.49328723549842834 \n",
      "prediction:  [[1 0 2 3 3 4]] true Y:  [[1, 0, 2, 3, 3, 4]] \n",
      "prediction str:  ihello\n",
      "97 loss:  0.4922771155834198 \n",
      "prediction:  [[1 0 2 3 3 4]] true Y:  [[1, 0, 2, 3, 3, 4]] \n",
      "prediction str:  ihello\n",
      "98 loss:  0.49129223823547363 \n",
      "prediction:  [[1 0 2 3 3 4]] true Y:  [[1, 0, 2, 3, 3, 4]] \n",
      "prediction str:  ihello\n",
      "99 loss:  0.4903316795825958 \n",
      "prediction:  [[1 0 2 3 3 4]] true Y:  [[1, 0, 2, 3, 3, 4]] \n",
      "prediction str:  ihello\n"
     ]
    }
   ],
   "source": [
    "for i in range(100):\n",
    "    optimizer.zero_grad()\n",
    "    outputs, _status = rnn(X)\n",
    "    loss = criterion(outputs.view(-1, input_size), Y.view(-1))\n",
    "    loss.backward()\n",
    "    optimizer.step()\n",
    "\n",
    "    result = outputs.data.numpy().argmax(axis=2)\n",
    "    result_str = ''.join([char_set[c] for c in np.squeeze(result)])\n",
    "    print(i, \"loss: \", loss.item(), \"\\nprediction: \", result, \"true Y: \", y_data, \"\\nprediction str: \", result_str)"
   ]
  },
  {
   "cell_type": "code",
   "execution_count": null,
   "metadata": {},
   "outputs": [],
   "source": []
  }
 ],
 "metadata": {
  "kernelspec": {
   "display_name": "Python 3",
   "language": "python",
   "name": "python3"
  },
  "language_info": {
   "codemirror_mode": {
    "name": "ipython",
    "version": 3
   },
   "file_extension": ".py",
   "mimetype": "text/x-python",
   "name": "python",
   "nbconvert_exporter": "python",
   "pygments_lexer": "ipython3",
   "version": "3.7.4"
  }
 },
 "nbformat": 4,
 "nbformat_minor": 2
}
