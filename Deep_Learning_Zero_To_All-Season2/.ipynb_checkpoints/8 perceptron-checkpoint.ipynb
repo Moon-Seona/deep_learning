{
 "cells": [
  {
   "cell_type": "markdown",
   "metadata": {},
   "source": [
    "## 8-1 perceptron\n",
    "\n",
    "    - 단층 퍼셉트론의 한계 : xor 불가능\n",
    "    - xor training\n",
    "    \n",
    "   ![title](pe.png)"
   ]
  },
  {
   "cell_type": "code",
   "execution_count": 1,
   "metadata": {},
   "outputs": [],
   "source": [
    "import torch"
   ]
  },
  {
   "cell_type": "code",
   "execution_count": 2,
   "metadata": {},
   "outputs": [],
   "source": [
    "device = 'cuda' if torch.cuda.is_available() else 'cpu'\n",
    "\n",
    "torch.manual_seed(777)\n",
    "if device == 'cuda':\n",
    "    torch.cuda.manual_seed_all(777)"
   ]
  },
  {
   "cell_type": "markdown",
   "metadata": {},
   "source": [
    "- xor : 2개의 입력값이 다를 때, 출력이 1"
   ]
  },
  {
   "cell_type": "code",
   "execution_count": 10,
   "metadata": {},
   "outputs": [],
   "source": [
    "X = torch.FloatTensor([[0, 0], [0, 1], [1, 0], [1, 1]]).to(device)\n",
    "Y = torch.FloatTensor([[0], [1], [1], [0]]).to(device)"
   ]
  },
  {
   "cell_type": "code",
   "execution_count": 11,
   "metadata": {},
   "outputs": [],
   "source": [
    "# 단층, 입력 2, 출력 1\n",
    "linear = torch.nn.Linear(2, 1, bias=True)\n",
    "sigmoid = torch.nn.Sigmoid()"
   ]
  },
  {
   "cell_type": "markdown",
   "metadata": {},
   "source": [
    "- Sequential : 코드에 적힌 순서대로 값을 전달해 처리한다."
   ]
  },
  {
   "cell_type": "code",
   "execution_count": 12,
   "metadata": {},
   "outputs": [],
   "source": [
    "model = torch.nn.Sequential(linear, sigmoid).to(device)"
   ]
  },
  {
   "cell_type": "markdown",
   "metadata": {},
   "source": [
    "- BCELoss : Binary Cross Entropy\n",
    "- SGD : 확률적 경사 하강법"
   ]
  },
  {
   "cell_type": "code",
   "execution_count": 13,
   "metadata": {},
   "outputs": [],
   "source": [
    "criterion = torch.nn.BCELoss().to(device)\n",
    "optimizer = torch.optim.SGD(model.parameters(), lr=1)"
   ]
  },
  {
   "cell_type": "code",
   "execution_count": 14,
   "metadata": {},
   "outputs": [],
   "source": [
    "from tqdm import tqdm_notebook as tqdm"
   ]
  },
  {
   "cell_type": "code",
   "execution_count": 15,
   "metadata": {},
   "outputs": [
    {
     "data": {
      "application/vnd.jupyter.widget-view+json": {
       "model_id": "083af80e3ac8462f980a5501de05c2bf",
       "version_major": 2,
       "version_minor": 0
      },
      "text/plain": [
       "HBox(children=(IntProgress(value=0, max=10001), HTML(value='')))"
      ]
     },
     "metadata": {},
     "output_type": "display_data"
    },
    {
     "name": "stdout",
     "output_type": "stream",
     "text": [
      "0 \t 0.7666423320770264 \t 0.5\n",
      "1000 \t 0.6931471824645996 \t 0.5\n",
      "2000 \t 0.6931471824645996 \t 0.5\n",
      "3000 \t 0.6931471824645996 \t 0.5\n",
      "4000 \t 0.6931471824645996 \t 0.5\n",
      "5000 \t 0.6931471824645996 \t 0.5\n",
      "6000 \t 0.6931471824645996 \t 0.5\n",
      "7000 \t 0.6931471824645996 \t 0.5\n",
      "8000 \t 0.6931471824645996 \t 0.5\n",
      "9000 \t 0.6931471824645996 \t 0.5\n",
      "10000 \t 0.6931471824645996 \t 0.5\n",
      "\n"
     ]
    }
   ],
   "source": [
    "for step in tqdm(range(10001)):\n",
    "    \n",
    "    optimizer.zero_grad()\n",
    "    hypothesis = model(X)\n",
    "\n",
    "    # cost function, GD 개선\n",
    "    cost = criterion(hypothesis, Y)\n",
    "    cost.backward()\n",
    "    optimizer.step()\n",
    "\n",
    "    if step % 1000 == 0:\n",
    "        #with torch.no_grad():\n",
    "        hypothesis = model(X)\n",
    "        predicted = (hypothesis > 0.5).float()\n",
    "        accuracy = (predicted == Y).float().mean()\n",
    "            \n",
    "        print(step, \"\\t\" ,cost.item(), \"\\t\", accuracy.item())"
   ]
  },
  {
   "cell_type": "markdown",
   "metadata": {},
   "source": [
    "- True if hypothesis>0.5 \n",
    "- else False"
   ]
  },
  {
   "cell_type": "code",
   "execution_count": 16,
   "metadata": {},
   "outputs": [
    {
     "name": "stdout",
     "output_type": "stream",
     "text": [
      "\n",
      "Hypothesis:  [[0.5]\n",
      " [0.5]\n",
      " [0.5]\n",
      " [0.5]] \n",
      "Correct:  [[0.]\n",
      " [0.]\n",
      " [0.]\n",
      " [0.]] \n",
      "Accuracy:  0.5\n"
     ]
    }
   ],
   "source": [
    "with torch.no_grad():\n",
    "    hypothesis = model(X)\n",
    "    predicted = (hypothesis > 0.5).float()\n",
    "    accuracy = (predicted == Y).float().mean()\n",
    "    print('\\nHypothesis: ', hypothesis.detach().cpu().numpy(), '\\nCorrect: ', predicted.detach().cpu().numpy(), '\\nAccuracy: ', accuracy.item())"
   ]
  },
  {
   "cell_type": "markdown",
   "metadata": {},
   "source": [
    "## 8-2 Multi Layer perceptron"
   ]
  },
  {
   "cell_type": "markdown",
   "metadata": {},
   "source": [
    "- multi layer \n",
    "    - F 대신에 변수명을 사용하여 함수처럼 사용"
   ]
  },
  {
   "cell_type": "code",
   "execution_count": 17,
   "metadata": {},
   "outputs": [],
   "source": [
    "X = torch.FloatTensor([[0, 0], [0, 1], [1, 0], [1, 1]]).to(device)\n",
    "Y = torch.FloatTensor([[0], [1], [1], [0]]).to(device)"
   ]
  },
  {
   "cell_type": "markdown",
   "metadata": {},
   "source": [
    "![title](xor.png)"
   ]
  },
  {
   "cell_type": "code",
   "execution_count": 18,
   "metadata": {},
   "outputs": [],
   "source": [
    "linear1 = torch.nn.Linear(2, 2, bias=True)\n",
    "linear2 = torch.nn.Linear(2, 1, bias=True)\n",
    "sigmoid = torch.nn.Sigmoid()"
   ]
  },
  {
   "cell_type": "code",
   "execution_count": 19,
   "metadata": {},
   "outputs": [],
   "source": [
    "model = torch.nn.Sequential(linear1, sigmoid, linear2, sigmoid).to(device)"
   ]
  },
  {
   "cell_type": "markdown",
   "metadata": {},
   "source": [
    "- binary cross entropy, stochastic gradient descent"
   ]
  },
  {
   "cell_type": "code",
   "execution_count": 20,
   "metadata": {},
   "outputs": [],
   "source": [
    "criterion = torch.nn.BCELoss().to(device)\n",
    "optimizer = torch.optim.SGD(model.parameters(), lr=1)"
   ]
  },
  {
   "cell_type": "code",
   "execution_count": 21,
   "metadata": {},
   "outputs": [
    {
     "data": {
      "application/vnd.jupyter.widget-view+json": {
       "model_id": "d9e3f9f3c3b64e80974895eec2b41ce5",
       "version_major": 2,
       "version_minor": 0
      },
      "text/plain": [
       "HBox(children=(IntProgress(value=0, max=10001), HTML(value='')))"
      ]
     },
     "metadata": {},
     "output_type": "display_data"
    },
    {
     "name": "stdout",
     "output_type": "stream",
     "text": [
      "0 \t 0.6966313719749451 \t 0.5\n",
      "1000 \t 0.6931322813034058 \t 0.5\n",
      "2000 \t 0.6929527521133423 \t 0.5\n",
      "3000 \t 0.10129247605800629 \t 1.0\n",
      "4000 \t 0.015544280409812927 \t 1.0\n",
      "5000 \t 0.008252661675214767 \t 1.0\n",
      "6000 \t 0.005600312724709511 \t 1.0\n",
      "7000 \t 0.004233418498188257 \t 1.0\n",
      "8000 \t 0.003401010762900114 \t 1.0\n",
      "9000 \t 0.0028412719257175922 \t 1.0\n",
      "10000 \t 0.0024392656050622463 \t 1.0\n",
      "\n"
     ]
    }
   ],
   "source": [
    "for step in tqdm(range(10001)):\n",
    "    optimizer.zero_grad()\n",
    "    hypothesis = model(X)\n",
    "\n",
    "    # cost/loss function\n",
    "    cost = criterion(hypothesis, Y)\n",
    "    cost.backward()\n",
    "    optimizer.step()\n",
    "\n",
    "    if step % 1000 == 0:\n",
    "        hypothesis = model(X)\n",
    "        predicted = (hypothesis > 0.5).float()\n",
    "        accuracy = (predicted == Y).float().mean()\n",
    "        \n",
    "        print(step, \"\\t\",cost.item(), \"\\t\", accuracy.item())"
   ]
  },
  {
   "cell_type": "code",
   "execution_count": 22,
   "metadata": {},
   "outputs": [
    {
     "name": "stdout",
     "output_type": "stream",
     "text": [
      "\n",
      "Hypothesis:  [[1.301711e-03]\n",
      " [9.990963e-01]\n",
      " [9.990920e-01]\n",
      " [9.307647e-04]] \n",
      "Correct:  [[0.]\n",
      " [1.]\n",
      " [1.]\n",
      " [0.]] \n",
      "Accuracy:  1.0\n"
     ]
    }
   ],
   "source": [
    "with torch.no_grad():\n",
    "    hypothesis = model(X)\n",
    "    predicted = (hypothesis > 0.5).float()\n",
    "    accuracy = (predicted == Y).float().mean()\n",
    "    print('\\nHypothesis: ', hypothesis.detach().cpu().numpy(), '\\nCorrect: ', predicted.detach().cpu().numpy(), '\\nAccuracy: ', accuracy.item())"
   ]
  },
  {
   "cell_type": "markdown",
   "metadata": {},
   "source": [
    "- learning rate 에 따른 cost function 비교"
   ]
  },
  {
   "cell_type": "code",
   "execution_count": 34,
   "metadata": {},
   "outputs": [
    {
     "data": {
      "application/vnd.jupyter.widget-view+json": {
       "model_id": "4f70e823f08d43458b9f8bab04b5bf7c",
       "version_major": 2,
       "version_minor": 0
      },
      "text/plain": [
       "HBox(children=(IntProgress(value=0, max=10001), HTML(value='')))"
      ]
     },
     "metadata": {},
     "output_type": "display_data"
    },
    {
     "name": "stdout",
     "output_type": "stream",
     "text": [
      "0.1 \t 0.0008535135420970619\n",
      "\n"
     ]
    },
    {
     "data": {
      "application/vnd.jupyter.widget-view+json": {
       "model_id": "9f0da4d3abb048f88d80847edfac9991",
       "version_major": 2,
       "version_minor": 0
      },
      "text/plain": [
       "HBox(children=(IntProgress(value=0, max=10001), HTML(value='')))"
      ]
     },
     "metadata": {},
     "output_type": "display_data"
    },
    {
     "name": "stdout",
     "output_type": "stream",
     "text": [
      "0.3 \t 0.000666953157633543\n",
      "\n"
     ]
    },
    {
     "data": {
      "application/vnd.jupyter.widget-view+json": {
       "model_id": "80089277126f45969c3954534603ee93",
       "version_major": 2,
       "version_minor": 0
      },
      "text/plain": [
       "HBox(children=(IntProgress(value=0, max=10001), HTML(value='')))"
      ]
     },
     "metadata": {},
     "output_type": "display_data"
    },
    {
     "name": "stdout",
     "output_type": "stream",
     "text": [
      "0.5 \t 0.000488613557536155\n",
      "\n"
     ]
    },
    {
     "data": {
      "application/vnd.jupyter.widget-view+json": {
       "model_id": "aa94b3a6f5a54afc94da7ab782b3dab7",
       "version_major": 2,
       "version_minor": 0
      },
      "text/plain": [
       "HBox(children=(IntProgress(value=0, max=10001), HTML(value='')))"
      ]
     },
     "metadata": {},
     "output_type": "display_data"
    },
    {
     "name": "stdout",
     "output_type": "stream",
     "text": [
      "0.7 \t 0.00035533891059458256\n",
      "\n"
     ]
    },
    {
     "data": {
      "application/vnd.jupyter.widget-view+json": {
       "model_id": "2906bd2ff6f24faa9c4a3986a33f7b2d",
       "version_major": 2,
       "version_minor": 0
      },
      "text/plain": [
       "HBox(children=(IntProgress(value=0, max=10001), HTML(value='')))"
      ]
     },
     "metadata": {},
     "output_type": "display_data"
    },
    {
     "name": "stdout",
     "output_type": "stream",
     "text": [
      "1.0 \t 0.00025561859365552664\n",
      "\n"
     ]
    }
   ],
   "source": [
    "learning = [0.1, 0.3, 0.5, 0.7, 1.0]\n",
    "\n",
    "for i in learning :\n",
    "    # learning list에 들어있는 값으로 변경\n",
    "    optimizer2 = torch.optim.SGD(model.parameters(), lr=i)\n",
    "    # learning rate 바뀔때마다 데이터 초기화\n",
    "    X = torch.FloatTensor([[0, 0], [0, 1], [1, 0], [1, 1]]).to(device)\n",
    "    Y = torch.FloatTensor([[0], [1], [1], [0]]).to(device)\n",
    "    for step in tqdm(range(10001)):\n",
    "        optimizer2.zero_grad()\n",
    "        hypothesis = model(X)\n",
    "\n",
    "        # cost/loss function\n",
    "        cost = criterion(hypothesis, Y)\n",
    "        cost.backward()\n",
    "        optimizer2.step()\n",
    "\n",
    "        # learning rate 마다 최종 cost 값 출력\n",
    "        if step == 10000:\n",
    "            print(i, \"\\t\",cost.item())"
   ]
  },
  {
   "cell_type": "markdown",
   "metadata": {},
   "source": [
    "## 8-3 nn wide deep\n",
    "    - 3층 이상"
   ]
  },
  {
   "cell_type": "code",
   "execution_count": 22,
   "metadata": {},
   "outputs": [],
   "source": [
    "# 데이터셋 초기화\n",
    "X = torch.FloatTensor([[0, 0], [0, 1], [1, 0], [1, 1]]).to(device)\n",
    "Y = torch.FloatTensor([[0], [1], [1], [0]]).to(device)"
   ]
  },
  {
   "cell_type": "code",
   "execution_count": 23,
   "metadata": {},
   "outputs": [],
   "source": [
    "linear1 = torch.nn.Linear(2, 10, bias=True)\n",
    "linear2 = torch.nn.Linear(10, 10, bias=True)\n",
    "linear3 = torch.nn.Linear(10, 10, bias=True)\n",
    "linear4 = torch.nn.Linear(10, 1, bias=True)\n",
    "sigmoid = torch.nn.Sigmoid()"
   ]
  },
  {
   "cell_type": "code",
   "execution_count": 24,
   "metadata": {},
   "outputs": [],
   "source": [
    "model = torch.nn.Sequential(linear1, sigmoid, linear2, sigmoid, linear3, sigmoid, linear4, sigmoid).to(device)"
   ]
  },
  {
   "cell_type": "code",
   "execution_count": 25,
   "metadata": {},
   "outputs": [],
   "source": [
    "criterion = torch.nn.BCELoss().to(device)\n",
    "optimizer3 = torch.optim.SGD(model.parameters(), lr=1)"
   ]
  },
  {
   "cell_type": "code",
   "execution_count": 26,
   "metadata": {},
   "outputs": [
    {
     "data": {
      "application/vnd.jupyter.widget-view+json": {
       "model_id": "49e14227a96047eca5dcf845cf6d8a77",
       "version_major": 2,
       "version_minor": 0
      },
      "text/plain": [
       "HBox(children=(IntProgress(value=0, max=10001), HTML(value='')))"
      ]
     },
     "metadata": {},
     "output_type": "display_data"
    },
    {
     "name": "stdout",
     "output_type": "stream",
     "text": [
      "0 \t 0.6932924389839172 \t 0.5\n",
      "1000 \t 0.6930913925170898 \t 0.5\n",
      "2000 \t 0.6929090619087219 \t 0.5\n",
      "3000 \t 0.6825567483901978 \t 0.75\n",
      "4000 \t 0.0015327164437621832 \t 1.0\n",
      "5000 \t 0.0005728795658797026 \t 1.0\n",
      "6000 \t 0.0003438453422859311 \t 1.0\n",
      "7000 \t 0.00024327691062353551 \t 1.0\n",
      "8000 \t 0.00018725107656791806 \t 1.0\n",
      "9000 \t 0.00015172053826972842 \t 1.0\n",
      "10000 \t 0.00012724932457786053 \t 1.0\n",
      "\n"
     ]
    }
   ],
   "source": [
    "for step in tqdm(range(10001)):\n",
    "    optimizer3.zero_grad()\n",
    "    hypothesis = model(X)\n",
    "\n",
    "    # cost/loss function\n",
    "    cost = criterion(hypothesis, Y)\n",
    "    cost.backward()\n",
    "    optimizer3.step()\n",
    "\n",
    "    if step % 1000 == 0:\n",
    "        hypothesis = model(X)\n",
    "        predicted = (hypothesis > 0.5).float()\n",
    "        accuracy = (predicted == Y).float().mean()\n",
    "        \n",
    "        print(step,\"\\t\", cost.item(), \"\\t\", accuracy.item())"
   ]
  },
  {
   "cell_type": "code",
   "execution_count": 45,
   "metadata": {},
   "outputs": [
    {
     "name": "stdout",
     "output_type": "stream",
     "text": [
      "\n",
      "Hypothesis:  [[8.6320506e-05]\n",
      " [9.9983168e-01]\n",
      " [9.9984014e-01]\n",
      " [1.9378660e-04]] \n",
      "Correct:  [[0.]\n",
      " [1.]\n",
      " [1.]\n",
      " [0.]] \n",
      "Accuracy:  1.0\n"
     ]
    }
   ],
   "source": [
    "with torch.no_grad():\n",
    "    hypothesis = model(X)\n",
    "    predicted = (hypothesis > 0.5).float()\n",
    "    accuracy = (predicted == Y).float().mean()\n",
    "    print('\\nHypothesis: ', hypothesis.detach().cpu().numpy(), '\\nCorrect: ', predicted.detach().cpu().numpy(), '\\nAccuracy: ', accuracy.item())"
   ]
  },
  {
   "cell_type": "code",
   "execution_count": 50,
   "metadata": {},
   "outputs": [
    {
     "data": {
      "application/vnd.jupyter.widget-view+json": {
       "model_id": "9ff5d8a87ff049b0aba78b1807e03a9b",
       "version_major": 2,
       "version_minor": 0
      },
      "text/plain": [
       "HBox(children=(IntProgress(value=0, max=10001), HTML(value='')))"
      ]
     },
     "metadata": {},
     "output_type": "display_data"
    },
    {
     "name": "stdout",
     "output_type": "stream",
     "text": [
      "0.1 \t 0.0000101477\n",
      "\n",
      "\n",
      "Hypothesis:  [[5.6282220e-06]\n",
      " [9.9998832e-01]\n",
      " [9.9998915e-01]\n",
      " [1.2471189e-05]] \n",
      "Correct:  [[0.]\n",
      " [1.]\n",
      " [1.]\n",
      " [0.]] \n",
      "Accuracy:  1.0\n"
     ]
    },
    {
     "data": {
      "application/vnd.jupyter.widget-view+json": {
       "model_id": "43976ea683e8451db75c04ebd98a36a6",
       "version_major": 2,
       "version_minor": 0
      },
      "text/plain": [
       "HBox(children=(IntProgress(value=0, max=10001), HTML(value='')))"
      ]
     },
     "metadata": {},
     "output_type": "display_data"
    },
    {
     "name": "stdout",
     "output_type": "stream",
     "text": [
      "0.3 \t 0.0000096411\n",
      "\n",
      "\n",
      "Hypothesis:  [[5.3617014e-06]\n",
      " [9.9998891e-01]\n",
      " [9.9998975e-01]\n",
      " [1.1860637e-05]] \n",
      "Correct:  [[0.]\n",
      " [1.]\n",
      " [1.]\n",
      " [0.]] \n",
      "Accuracy:  1.0\n"
     ]
    },
    {
     "data": {
      "application/vnd.jupyter.widget-view+json": {
       "model_id": "be233945ee93429e841a525b3396ebb4",
       "version_major": 2,
       "version_minor": 0
      },
      "text/plain": [
       "HBox(children=(IntProgress(value=0, max=10001), HTML(value='')))"
      ]
     },
     "metadata": {},
     "output_type": "display_data"
    },
    {
     "name": "stdout",
     "output_type": "stream",
     "text": [
      "0.5 \t 0.0000089109\n",
      "\n",
      "\n",
      "Hypothesis:  [[4.9376904e-06]\n",
      " [9.9998975e-01]\n",
      " [9.9999046e-01]\n",
      " [1.0923935e-05]] \n",
      "Correct:  [[0.]\n",
      " [1.]\n",
      " [1.]\n",
      " [0.]] \n",
      "Accuracy:  1.0\n"
     ]
    },
    {
     "data": {
      "application/vnd.jupyter.widget-view+json": {
       "model_id": "9787f06dc8b8434b8dfe73a5fede91ff",
       "version_major": 2,
       "version_minor": 0
      },
      "text/plain": [
       "HBox(children=(IntProgress(value=0, max=10001), HTML(value='')))"
      ]
     },
     "metadata": {},
     "output_type": "display_data"
    },
    {
     "name": "stdout",
     "output_type": "stream",
     "text": [
      "0.7 \t 0.0000080467\n",
      "\n",
      "\n",
      "Hypothesis:  [[4.4470498e-06]\n",
      " [9.9999070e-01]\n",
      " [9.9999142e-01]\n",
      " [9.8304035e-06]] \n",
      "Correct:  [[0.]\n",
      " [1.]\n",
      " [1.]\n",
      " [0.]] \n",
      "Accuracy:  1.0\n"
     ]
    },
    {
     "data": {
      "application/vnd.jupyter.widget-view+json": {
       "model_id": "3aee7c6d0aca4d6388551f6feca5b361",
       "version_major": 2,
       "version_minor": 0
      },
      "text/plain": [
       "HBox(children=(IntProgress(value=0, max=10001), HTML(value='')))"
      ]
     },
     "metadata": {},
     "output_type": "display_data"
    },
    {
     "name": "stdout",
     "output_type": "stream",
     "text": [
      "1.0 \t 0.0000070334\n",
      "\n",
      "\n",
      "Hypothesis:  [[3.899588e-06]\n",
      " [9.999919e-01]\n",
      " [9.999925e-01]\n",
      " [8.630881e-06]] \n",
      "Correct:  [[0.]\n",
      " [1.]\n",
      " [1.]\n",
      " [0.]] \n",
      "Accuracy:  1.0\n"
     ]
    }
   ],
   "source": [
    "learning = [0.1, 0.3, 0.5, 0.7, 1.0]\n",
    "\n",
    "for i in learning :\n",
    "    # learning list에 들어있는 값으로 변경\n",
    "    optimizer4 = torch.optim.SGD(model.parameters(), lr=i)\n",
    "    # learning rate 바뀔때마다 데이터 초기화\n",
    "    X = torch.FloatTensor([[0, 0], [0, 1], [1, 0], [1, 1]]).to(device)\n",
    "    Y = torch.FloatTensor([[0], [1], [1], [0]]).to(device)\n",
    "    for step in tqdm(range(10001)):\n",
    "        optimizer4.zero_grad()\n",
    "        hypothesis = model(X)\n",
    "\n",
    "        # cost/loss function\n",
    "        cost = criterion(hypothesis, Y)\n",
    "        cost.backward()\n",
    "        optimizer4.step()\n",
    "\n",
    "        # learning rate 마다 최종 cost 값 출력\n",
    "        if step == 10000:\n",
    "            # '%.10f' % num\n",
    "            print(i, \"\\t\",'%.10f' %cost.item())\n",
    "        \n",
    "    with torch.no_grad():\n",
    "        hypothesis = model(X)\n",
    "        predicted = (hypothesis > 0.5).float()\n",
    "        accuracy = (predicted == Y).float().mean()\n",
    "        print('\\nHypothesis: ', hypothesis.detach().cpu().numpy(), '\\nCorrect: ', predicted.detach().cpu().numpy(), '\\nAccuracy: ', accuracy.item())"
   ]
  },
  {
   "cell_type": "code",
   "execution_count": null,
   "metadata": {},
   "outputs": [],
   "source": []
  }
 ],
 "metadata": {
  "kernelspec": {
   "display_name": "Python 3",
   "language": "python",
   "name": "python3"
  },
  "language_info": {
   "codemirror_mode": {
    "name": "ipython",
    "version": 3
   },
   "file_extension": ".py",
   "mimetype": "text/x-python",
   "name": "python",
   "nbconvert_exporter": "python",
   "pygments_lexer": "ipython3",
   "version": "3.7.4"
  }
 },
 "nbformat": 4,
 "nbformat_minor": 2
}
