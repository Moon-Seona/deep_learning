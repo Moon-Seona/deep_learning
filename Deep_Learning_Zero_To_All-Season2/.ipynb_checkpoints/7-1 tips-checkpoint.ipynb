{
 "cells": [
  {
   "cell_type": "markdown",
   "metadata": {},
   "source": [
    "## 7-1 tips"
   ]
  },
  {
   "cell_type": "code",
   "execution_count": 1,
   "metadata": {},
   "outputs": [],
   "source": [
    "import torch\n",
    "import torch.nn as nn\n",
    "import torch.nn.functional as F\n",
    "import torch.optim as optim"
   ]
  },
  {
   "cell_type": "markdown",
   "metadata": {},
   "source": [
    "### 1. dataset"
   ]
  },
  {
   "cell_type": "code",
   "execution_count": 4,
   "metadata": {},
   "outputs": [],
   "source": [
    "x_train = torch.FloatTensor([[1, 2, 1], \n",
    "                             [1, 3, 2],\n",
    "                             [1, 3, 4],\n",
    "                             [1, 5, 5],\n",
    "                             [1, 7, 5],\n",
    "                             [1, 2, 5],\n",
    "                             [1, 6, 6],\n",
    "                             [1, 7, 7]\n",
    "                            ]) #8x3\n",
    "y_train = torch.LongTensor([2, 2, 2, 1, 1, 1, 0, 0]) #1x8"
   ]
  },
  {
   "cell_type": "code",
   "execution_count": 5,
   "metadata": {},
   "outputs": [],
   "source": [
    "x_test = torch.FloatTensor([[2, 1, 1], [3, 1, 2], [3, 3, 4]]) #3x3\n",
    "y_test = torch.LongTensor([2, 2, 2]) #1x3"
   ]
  },
  {
   "cell_type": "markdown",
   "metadata": {},
   "source": [
    "### 2. use model"
   ]
  },
  {
   "cell_type": "code",
   "execution_count": 6,
   "metadata": {},
   "outputs": [],
   "source": [
    "class SoftmaxClassifierModel(nn.Module):\n",
    "    def __init__(self):\n",
    "        super().__init__()\n",
    "        self.linear = nn.Linear(3, 3)\n",
    "    def forward(self, x):\n",
    "        return self.linear(x)"
   ]
  },
  {
   "cell_type": "code",
   "execution_count": 7,
   "metadata": {},
   "outputs": [],
   "source": [
    "model = SoftmaxClassifierModel()"
   ]
  },
  {
   "cell_type": "code",
   "execution_count": 8,
   "metadata": {},
   "outputs": [],
   "source": [
    "optimizer = optim.SGD(model.parameters(), lr=0.1)"
   ]
  },
  {
   "cell_type": "code",
   "execution_count": 9,
   "metadata": {},
   "outputs": [],
   "source": [
    "def train(model, optimizer, x_train, y_train):\n",
    "    nb_epochs = 20\n",
    "    for epoch in range(nb_epochs):\n",
    "\n",
    "        # H(x) 계산\n",
    "        prediction = model(x_train)\n",
    "\n",
    "        # cost 계산\n",
    "        cost = F.cross_entropy(prediction, y_train)\n",
    "\n",
    "        # cost로 H(x) 개선\n",
    "        optimizer.zero_grad()\n",
    "        cost.backward()\n",
    "        optimizer.step()\n",
    "\n",
    "        print('Epoch {:4d}/{} Cost: {:.6f}'.format(\n",
    "            epoch, nb_epochs, cost.item()\n",
    "        ))"
   ]
  },
  {
   "cell_type": "code",
   "execution_count": 10,
   "metadata": {},
   "outputs": [],
   "source": [
    "def test(model, optimizer, x_test, y_test):\n",
    "    prediction = model(x_test)\n",
    "    predicted_classes = prediction.max(1)[1]\n",
    "    correct_count = (predicted_classes == y_test).sum().item()\n",
    "    cost = F.cross_entropy(prediction, y_test)\n",
    "\n",
    "    print('Accuracy: {}% Cost: {:.6f}'.format(\n",
    "         correct_count / len(y_test) * 100, cost.item()\n",
    "    ))"
   ]
  },
  {
   "cell_type": "code",
   "execution_count": 11,
   "metadata": {},
   "outputs": [
    {
     "name": "stdout",
     "output_type": "stream",
     "text": [
      "Epoch    0/20 Cost: 1.706549\n",
      "Epoch    1/20 Cost: 1.091940\n",
      "Epoch    2/20 Cost: 1.027849\n",
      "Epoch    3/20 Cost: 1.010247\n",
      "Epoch    4/20 Cost: 0.993979\n",
      "Epoch    5/20 Cost: 0.983525\n",
      "Epoch    6/20 Cost: 0.974643\n",
      "Epoch    7/20 Cost: 0.967283\n",
      "Epoch    8/20 Cost: 0.960515\n",
      "Epoch    9/20 Cost: 0.954353\n",
      "Epoch   10/20 Cost: 0.948503\n",
      "Epoch   11/20 Cost: 0.942956\n",
      "Epoch   12/20 Cost: 0.937606\n",
      "Epoch   13/20 Cost: 0.932441\n",
      "Epoch   14/20 Cost: 0.927417\n",
      "Epoch   15/20 Cost: 0.922524\n",
      "Epoch   16/20 Cost: 0.917745\n",
      "Epoch   17/20 Cost: 0.913071\n",
      "Epoch   18/20 Cost: 0.908494\n",
      "Epoch   19/20 Cost: 0.904007\n"
     ]
    }
   ],
   "source": [
    "train(model, optimizer, x_train, y_train)"
   ]
  },
  {
   "cell_type": "code",
   "execution_count": 12,
   "metadata": {},
   "outputs": [
    {
     "name": "stdout",
     "output_type": "stream",
     "text": [
      "Accuracy: 66.66666666666666% Cost: 0.638653\n"
     ]
    }
   ],
   "source": [
    "test(model, optimizer, x_test, y_test)"
   ]
  },
  {
   "cell_type": "markdown",
   "metadata": {},
   "source": [
    "### 3. learning rate"
   ]
  },
  {
   "cell_type": "markdown",
   "metadata": {},
   "source": [
    "1. learning rate가 너무 큰 경우 : overshooting "
   ]
  },
  {
   "cell_type": "code",
   "execution_count": 13,
   "metadata": {},
   "outputs": [],
   "source": [
    "model = SoftmaxClassifierModel()"
   ]
  },
  {
   "cell_type": "code",
   "execution_count": 14,
   "metadata": {},
   "outputs": [],
   "source": [
    "optimizer = optim.SGD(model.parameters(), lr=1e5)"
   ]
  },
  {
   "cell_type": "code",
   "execution_count": 15,
   "metadata": {},
   "outputs": [
    {
     "name": "stdout",
     "output_type": "stream",
     "text": [
      "Epoch    0/20 Cost: 1.919556\n",
      "Epoch    1/20 Cost: 831106.062500\n",
      "Epoch    2/20 Cost: 2453395.250000\n",
      "Epoch    3/20 Cost: 395168.656250\n",
      "Epoch    4/20 Cost: 1639332.750000\n",
      "Epoch    5/20 Cost: 1297466.750000\n",
      "Epoch    6/20 Cost: 1084231.125000\n",
      "Epoch    7/20 Cost: 1761207.750000\n",
      "Epoch    8/20 Cost: 648293.625000\n",
      "Epoch    9/20 Cost: 1011488.812500\n",
      "Epoch   10/20 Cost: 1202154.375000\n",
      "Epoch   11/20 Cost: 1276418.625000\n",
      "Epoch   12/20 Cost: 1495582.750000\n",
      "Epoch   13/20 Cost: 840481.187500\n",
      "Epoch   14/20 Cost: 811795.312500\n",
      "Epoch   15/20 Cost: 650609.375000\n",
      "Epoch   16/20 Cost: 1084231.125000\n",
      "Epoch   17/20 Cost: 1661207.750000\n",
      "Epoch   18/20 Cost: 668737.187500\n",
      "Epoch   19/20 Cost: 905238.812500\n"
     ]
    }
   ],
   "source": [
    "train(model, optimizer, x_train, y_train)"
   ]
  },
  {
   "cell_type": "markdown",
   "metadata": {},
   "source": [
    "2. learning rate가 너무 작은 경우"
   ]
  },
  {
   "cell_type": "code",
   "execution_count": 16,
   "metadata": {},
   "outputs": [],
   "source": [
    "model = SoftmaxClassifierModel()"
   ]
  },
  {
   "cell_type": "code",
   "execution_count": 17,
   "metadata": {},
   "outputs": [],
   "source": [
    "optimizer = optim.SGD(model.parameters(), lr=1e-10)"
   ]
  },
  {
   "cell_type": "code",
   "execution_count": 18,
   "metadata": {},
   "outputs": [
    {
     "name": "stdout",
     "output_type": "stream",
     "text": [
      "Epoch    0/20 Cost: 2.351767\n",
      "Epoch    1/20 Cost: 2.351767\n",
      "Epoch    2/20 Cost: 2.351767\n",
      "Epoch    3/20 Cost: 2.351767\n",
      "Epoch    4/20 Cost: 2.351767\n",
      "Epoch    5/20 Cost: 2.351767\n",
      "Epoch    6/20 Cost: 2.351767\n",
      "Epoch    7/20 Cost: 2.351767\n",
      "Epoch    8/20 Cost: 2.351767\n",
      "Epoch    9/20 Cost: 2.351767\n",
      "Epoch   10/20 Cost: 2.351767\n",
      "Epoch   11/20 Cost: 2.351767\n",
      "Epoch   12/20 Cost: 2.351767\n",
      "Epoch   13/20 Cost: 2.351767\n",
      "Epoch   14/20 Cost: 2.351767\n",
      "Epoch   15/20 Cost: 2.351767\n",
      "Epoch   16/20 Cost: 2.351767\n",
      "Epoch   17/20 Cost: 2.351767\n",
      "Epoch   18/20 Cost: 2.351767\n",
      "Epoch   19/20 Cost: 2.351767\n"
     ]
    }
   ],
   "source": [
    "train(model, optimizer, x_train, y_train)"
   ]
  },
  {
   "cell_type": "markdown",
   "metadata": {},
   "source": [
    "3. learning rate가 적절한 경우"
   ]
  },
  {
   "cell_type": "code",
   "execution_count": 19,
   "metadata": {},
   "outputs": [],
   "source": [
    "model = SoftmaxClassifierModel()"
   ]
  },
  {
   "cell_type": "code",
   "execution_count": 20,
   "metadata": {},
   "outputs": [],
   "source": [
    "optimizer = optim.SGD(model.parameters(), lr=1e-1)"
   ]
  },
  {
   "cell_type": "code",
   "execution_count": 21,
   "metadata": {},
   "outputs": [
    {
     "name": "stdout",
     "output_type": "stream",
     "text": [
      "Epoch    0/20 Cost: 1.609176\n",
      "Epoch    1/20 Cost: 1.377012\n",
      "Epoch    2/20 Cost: 1.175314\n",
      "Epoch    3/20 Cost: 1.095804\n",
      "Epoch    4/20 Cost: 1.044770\n",
      "Epoch    5/20 Cost: 1.018974\n",
      "Epoch    6/20 Cost: 1.003945\n",
      "Epoch    7/20 Cost: 0.993331\n",
      "Epoch    8/20 Cost: 0.984493\n",
      "Epoch    9/20 Cost: 0.976939\n",
      "Epoch   10/20 Cost: 0.970047\n",
      "Epoch   11/20 Cost: 0.963697\n",
      "Epoch   12/20 Cost: 0.957684\n",
      "Epoch   13/20 Cost: 0.951957\n",
      "Epoch   14/20 Cost: 0.946437\n",
      "Epoch   15/20 Cost: 0.941096\n",
      "Epoch   16/20 Cost: 0.935901\n",
      "Epoch   17/20 Cost: 0.930837\n",
      "Epoch   18/20 Cost: 0.925888\n",
      "Epoch   19/20 Cost: 0.921045\n"
     ]
    }
   ],
   "source": [
    "train(model, optimizer, x_train, y_train)"
   ]
  },
  {
   "cell_type": "markdown",
   "metadata": {},
   "source": [
    "### 4. data processing\n",
    "![title](pro.png)"
   ]
  },
  {
   "cell_type": "code",
   "execution_count": 25,
   "metadata": {},
   "outputs": [],
   "source": [
    "x_train = torch.FloatTensor([[73, 80, 75],\n",
    "                             [93, 88, 93],\n",
    "                             [89, 91, 90],\n",
    "                             [96, 98, 100],\n",
    "                             [73, 66, 70]]) # 5x3\n",
    "y_train = torch.FloatTensor([[152], [185], [180], [196], [142]]) # 5x1"
   ]
  },
  {
   "cell_type": "code",
   "execution_count": 26,
   "metadata": {},
   "outputs": [],
   "source": [
    "mu = x_train.mean(dim=0)"
   ]
  },
  {
   "cell_type": "code",
   "execution_count": 27,
   "metadata": {},
   "outputs": [],
   "source": [
    "sigma = x_train.std(dim=0)"
   ]
  },
  {
   "cell_type": "code",
   "execution_count": 28,
   "metadata": {},
   "outputs": [
    {
     "data": {
      "text/plain": [
       "tensor([[-1.0674, -0.3758, -0.8398],\n",
       "        [ 0.7418,  0.2778,  0.5863],\n",
       "        [ 0.3799,  0.5229,  0.3486],\n",
       "        [ 1.0132,  1.0948,  1.1409],\n",
       "        [-1.0674, -1.5197, -1.2360]])"
      ]
     },
     "execution_count": 28,
     "metadata": {},
     "output_type": "execute_result"
    }
   ],
   "source": [
    "norm_x_train = (x_train - mu) / sigma\n",
    "norm_x_train"
   ]
  },
  {
   "cell_type": "code",
   "execution_count": 29,
   "metadata": {},
   "outputs": [],
   "source": [
    "class MultivariateLinearRegressionModel(nn.Module):\n",
    "    def __init__(self):\n",
    "        super().__init__()\n",
    "        self.linear = nn.Linear(3, 1)\n",
    "\n",
    "    def forward(self, x):\n",
    "        return self.linear(x)"
   ]
  },
  {
   "cell_type": "code",
   "execution_count": 30,
   "metadata": {},
   "outputs": [],
   "source": [
    "model = MultivariateLinearRegressionModel()"
   ]
  },
  {
   "cell_type": "code",
   "execution_count": 31,
   "metadata": {},
   "outputs": [],
   "source": [
    "optimizer = optim.SGD(model.parameters(), lr=1e-1)"
   ]
  },
  {
   "cell_type": "code",
   "execution_count": 32,
   "metadata": {},
   "outputs": [],
   "source": [
    "def train(model, optimizer, x_train, y_train):\n",
    "    nb_epochs = 20\n",
    "    for epoch in range(nb_epochs):\n",
    "\n",
    "        # H(x) 계산\n",
    "        prediction = model(x_train)\n",
    "\n",
    "        # cost 계산\n",
    "        cost = F.mse_loss(prediction, y_train)\n",
    "\n",
    "        # cost로 H(x) 개선\n",
    "        optimizer.zero_grad()\n",
    "        cost.backward()\n",
    "        optimizer.step()\n",
    "\n",
    "        print('Epoch {:4d}/{} Cost: {:.6f}'.format(\n",
    "            epoch, nb_epochs, cost.item()\n",
    "        ))"
   ]
  },
  {
   "cell_type": "code",
   "execution_count": 33,
   "metadata": {},
   "outputs": [
    {
     "name": "stdout",
     "output_type": "stream",
     "text": [
      "Epoch    0/20 Cost: 29576.714844\n",
      "Epoch    1/20 Cost: 18775.628906\n",
      "Epoch    2/20 Cost: 11971.943359\n",
      "Epoch    3/20 Cost: 7649.306152\n",
      "Epoch    4/20 Cost: 4892.043945\n",
      "Epoch    5/20 Cost: 3130.075684\n",
      "Epoch    6/20 Cost: 2003.190063\n",
      "Epoch    7/20 Cost: 1282.201904\n",
      "Epoch    8/20 Cost: 820.827759\n",
      "Epoch    9/20 Cost: 525.559998\n",
      "Epoch   10/20 Cost: 336.586487\n",
      "Epoch   11/20 Cost: 215.637665\n",
      "Epoch   12/20 Cost: 138.223984\n",
      "Epoch   13/20 Cost: 88.672630\n",
      "Epoch   14/20 Cost: 56.953362\n",
      "Epoch   15/20 Cost: 36.646805\n",
      "Epoch   16/20 Cost: 23.644604\n",
      "Epoch   17/20 Cost: 15.317439\n",
      "Epoch   18/20 Cost: 9.982448\n",
      "Epoch   19/20 Cost: 6.562715\n"
     ]
    }
   ],
   "source": [
    "train(model, optimizer, norm_x_train, y_train)"
   ]
  },
  {
   "cell_type": "markdown",
   "metadata": {},
   "source": [
    "### 5. overfitting\n",
    "    - 방지 방법 3가지\n",
    "        1. 더 많은 학습 데이터\n",
    "        2. 더 적은 양의 feature\n",
    "        3. 정규화"
   ]
  },
  {
   "cell_type": "markdown",
   "metadata": {},
   "source": [
    "3. 정규화"
   ]
  },
  {
   "cell_type": "code",
   "execution_count": 34,
   "metadata": {},
   "outputs": [],
   "source": [
    "def train_with_regularization(model, optimizer, x_train, y_train):\n",
    "    nb_epochs = 20\n",
    "    for epoch in range(nb_epochs):\n",
    "\n",
    "        # H(x) 계산\n",
    "        prediction = model(x_train)\n",
    "\n",
    "        # cost 계산\n",
    "        cost = F.mse_loss(prediction, y_train)\n",
    "        \n",
    "        # l2 norm 계산\n",
    "        l2_reg = 0\n",
    "        for param in model.parameters():\n",
    "            l2_reg += torch.norm(param)\n",
    "            \n",
    "        cost += l2_reg\n",
    "\n",
    "        # cost로 H(x) 개선\n",
    "        optimizer.zero_grad()\n",
    "        cost.backward()\n",
    "        optimizer.step()\n",
    "\n",
    "        print('Epoch {:4d}/{} Cost: {:.6f}'.format(\n",
    "            epoch+1, nb_epochs, cost.item()\n",
    "        ))"
   ]
  },
  {
   "cell_type": "code",
   "execution_count": 35,
   "metadata": {},
   "outputs": [],
   "source": [
    "model = MultivariateLinearRegressionModel()"
   ]
  },
  {
   "cell_type": "code",
   "execution_count": 36,
   "metadata": {},
   "outputs": [],
   "source": [
    "optimizer = optim.SGD(model.parameters(), lr=1e-1)"
   ]
  },
  {
   "cell_type": "code",
   "execution_count": 37,
   "metadata": {},
   "outputs": [
    {
     "name": "stdout",
     "output_type": "stream",
     "text": [
      "Epoch    1/20 Cost: 29468.734375\n",
      "Epoch    2/20 Cost: 18792.435547\n",
      "Epoch    3/20 Cost: 12055.271484\n",
      "Epoch    4/20 Cost: 7770.754883\n",
      "Epoch    5/20 Cost: 5036.594238\n",
      "Epoch    6/20 Cost: 3289.033691\n",
      "Epoch    7/20 Cost: 2171.260254\n",
      "Epoch    8/20 Cost: 1456.073486\n",
      "Epoch    9/20 Cost: 998.403931\n",
      "Epoch   10/20 Cost: 705.505737\n",
      "Epoch   11/20 Cost: 518.049561\n",
      "Epoch   12/20 Cost: 398.072876\n",
      "Epoch   13/20 Cost: 321.282715\n",
      "Epoch   14/20 Cost: 272.131836\n",
      "Epoch   15/20 Cost: 240.670273\n",
      "Epoch   16/20 Cost: 220.530167\n",
      "Epoch   17/20 Cost: 207.635971\n",
      "Epoch   18/20 Cost: 199.379440\n",
      "Epoch   19/20 Cost: 194.091171\n",
      "Epoch   20/20 Cost: 190.702881\n"
     ]
    }
   ],
   "source": [
    "train_with_regularization(model, optimizer, norm_x_train, y_train)"
   ]
  },
  {
   "cell_type": "code",
   "execution_count": null,
   "metadata": {},
   "outputs": [],
   "source": []
  }
 ],
 "metadata": {
  "kernelspec": {
   "display_name": "Python 3",
   "language": "python",
   "name": "python3"
  },
  "language_info": {
   "codemirror_mode": {
    "name": "ipython",
    "version": 3
   },
   "file_extension": ".py",
   "mimetype": "text/x-python",
   "name": "python",
   "nbconvert_exporter": "python",
   "pygments_lexer": "ipython3",
   "version": "3.7.4"
  }
 },
 "nbformat": 4,
 "nbformat_minor": 2
}
