{
 "cells": [
  {
   "cell_type": "markdown",
   "metadata": {},
   "source": [
    "## 2. Linear Regression\n",
    "## 3. Deeper Look at GD"
   ]
  },
  {
   "cell_type": "markdown",
   "metadata": {},
   "source": [
    "- 3. deeper look at GD는 training 부분에 일부 포함"
   ]
  },
  {
   "cell_type": "code",
   "execution_count": 1,
   "metadata": {},
   "outputs": [],
   "source": [
    "import torch\n",
    "import torch.nn as nn\n",
    "import torch.nn.functional as F\n",
    "import torch.optim as optim"
   ]
  },
  {
   "cell_type": "markdown",
   "metadata": {},
   "source": [
    "### 1. set data - train"
   ]
  },
  {
   "cell_type": "code",
   "execution_count": 2,
   "metadata": {},
   "outputs": [],
   "source": [
    "x_train = torch.FloatTensor([[1], [2], [3]]) # 3x1\n",
    "y_train = torch.FloatTensor([[1], [2], [3]]) # 3x1"
   ]
  },
  {
   "cell_type": "markdown",
   "metadata": {},
   "source": [
    "### 2. wieght, bias 초기화"
   ]
  },
  {
   "cell_type": "markdown",
   "metadata": {},
   "source": [
    "<img src = \"lr_h.png\" width = \"50%\">"
   ]
  },
  {
   "cell_type": "markdown",
   "metadata": {},
   "source": [
    "- requires_grad=True // 학습할 것이라고 명시"
   ]
  },
  {
   "cell_type": "code",
   "execution_count": 3,
   "metadata": {},
   "outputs": [],
   "source": [
    "# 0으로 초기화\n",
    "W = torch.zeros(1, requires_grad=True)\n",
    "b = torch.zeros(1, requires_grad=True)"
   ]
  },
  {
   "cell_type": "markdown",
   "metadata": {},
   "source": [
    "### 3. set optimizer"
   ]
  },
  {
   "cell_type": "code",
   "execution_count": 4,
   "metadata": {},
   "outputs": [],
   "source": [
    "# learning rate = 0.01\n",
    "optimizer = optim.SGD([W,b], lr=0.01)"
   ]
  },
  {
   "cell_type": "markdown",
   "metadata": {},
   "source": [
    "### 4. compute hypothesis"
   ]
  },
  {
   "cell_type": "code",
   "execution_count": 5,
   "metadata": {},
   "outputs": [],
   "source": [
    "def hypothesis(x, w, b) :\n",
    "    return x * w + b"
   ]
  },
  {
   "cell_type": "markdown",
   "metadata": {},
   "source": [
    "### 5. compute cost function"
   ]
  },
  {
   "cell_type": "code",
   "execution_count": 6,
   "metadata": {},
   "outputs": [],
   "source": [
    "def cost(x,w,b,y) :\n",
    "    return torch.mean((hypothesis(x,w,b) - y)** 2)"
   ]
  },
  {
   "cell_type": "markdown",
   "metadata": {},
   "source": [
    "### 6. training"
   ]
  },
  {
   "cell_type": "markdown",
   "metadata": {},
   "source": [
    "- compute loss - MSE\n",
    "<img src=\"lr_cost.png\" weight=\"50%\">"
   ]
  },
  {
   "cell_type": "markdown",
   "metadata": {},
   "source": [
    "1. optim 사용"
   ]
  },
  {
   "cell_type": "code",
   "execution_count": 11,
   "metadata": {},
   "outputs": [
    {
     "name": "stdout",
     "output_type": "stream",
     "text": [
      "Epoch    0/1000 W: 0.176, b: 0.075 Cost: 3.692741\n",
      "Epoch  100/1000 W: 0.873, b: 0.288 Cost: 0.011985\n",
      "Epoch  200/1000 W: 0.900, b: 0.227 Cost: 0.007406\n",
      "Epoch  300/1000 W: 0.922, b: 0.178 Cost: 0.004576\n",
      "Epoch  400/1000 W: 0.938, b: 0.140 Cost: 0.002828\n",
      "Epoch  500/1000 W: 0.952, b: 0.110 Cost: 0.001747\n",
      "Epoch  600/1000 W: 0.962, b: 0.087 Cost: 0.001080\n",
      "Epoch  700/1000 W: 0.970, b: 0.068 Cost: 0.000667\n",
      "Epoch  800/1000 W: 0.976, b: 0.053 Cost: 0.000412\n",
      "Epoch  900/1000 W: 0.982, b: 0.042 Cost: 0.000255\n",
      "Epoch 1000/1000 W: 0.985, b: 0.033 Cost: 0.000157\n"
     ]
    }
   ],
   "source": [
    "nb_epochs = 1000\n",
    "for epoch in range(nb_epochs + 1):\n",
    "    \n",
    "    \n",
    "    #cost = cost(x_train, W, b, y_train)\n",
    "    \n",
    "    # H(x) 계산\n",
    "    hypothesis = x_train * W + b\n",
    "    \n",
    "    # cost 계산\n",
    "    cost = torch.mean((hypothesis - y_train) ** 2)\n",
    "\n",
    "    # cost로 H(x) 개선, 항상 3줄 같이 씀\n",
    "    optimizer.zero_grad() # gradient 초기화\n",
    "    cost.backward() # gradient 계산\n",
    "    optimizer.step() # 개선\n",
    "\n",
    "    # 100번마다 로그 출력\n",
    "    if epoch % 100 == 0:\n",
    "        print('Epoch {:4d}/{} W: {:.3f}, b: {:.3f} Cost: {:.6f}'.format(\n",
    "            epoch, nb_epochs, W.item(), b.item(), cost.item()\n",
    "        ))"
   ]
  },
  {
   "cell_type": "markdown",
   "metadata": {},
   "source": [
    "2. GD 직접 계산\n",
    "<img src=\"lr_gd.png\" width=\"50%\">"
   ]
  },
  {
   "cell_type": "code",
   "execution_count": 17,
   "metadata": {},
   "outputs": [
    {
     "name": "stdout",
     "output_type": "stream",
     "text": [
      "Epoch    0/10 W: 0.000, b: 0.033 Cost: 4.535247\n",
      "Epoch    1/10 W: 1.400, b: 0.033 Cost: 0.800771\n",
      "Epoch    2/10 W: 0.840, b: 0.033 Cost: 0.099361\n",
      "Epoch    3/10 W: 1.064, b: 0.033 Cost: 0.028693\n",
      "Epoch    4/10 W: 0.974, b: 0.033 Cost: 0.000763\n",
      "Epoch    5/10 W: 1.010, b: 0.033 Cost: 0.002944\n",
      "Epoch    6/10 W: 0.996, b: 0.033 Cost: 0.000633\n",
      "Epoch    7/10 W: 1.002, b: 0.033 Cost: 0.001327\n",
      "Epoch    8/10 W: 0.999, b: 0.033 Cost: 0.001013\n",
      "Epoch    9/10 W: 1.000, b: 0.033 Cost: 0.001133\n",
      "Epoch   10/10 W: 1.000, b: 0.033 Cost: 0.001084\n"
     ]
    }
   ],
   "source": [
    "W = torch.zeros(1)\n",
    "\n",
    "# GD 직접 계산 1\n",
    "# bias 고려 안함\n",
    "learning_rate = 0.1\n",
    "\n",
    "nb_epochs = 10\n",
    "for epoch in range(nb_epochs + 1):\n",
    "    \n",
    "    # H(x) 계산\n",
    "    hypothesis = x_train * W + b\n",
    "    \n",
    "    # cost 계산\n",
    "    cost = torch.mean((hypothesis - y_train) ** 2)\n",
    "\n",
    "    # GD 직접 계산 2\n",
    "    gradient = torch.sum((W*x_train-y_train)*x_train)\n",
    "\n",
    "    \n",
    "    print('Epoch {:4d}/{} W: {:.3f}, b: {:.3f} Cost: {:.6f}'.format(\n",
    "        epoch, nb_epochs, W.item(), b.item(), cost.item()\n",
    "    ))\n",
    "    \n",
    "    # GD 직접 계산 3\n",
    "    W -= learning_rate * gradient "
   ]
  },
  {
   "cell_type": "markdown",
   "metadata": {},
   "source": [
    "3. GD - torch.optim"
   ]
  },
  {
   "cell_type": "code",
   "execution_count": 19,
   "metadata": {},
   "outputs": [
    {
     "name": "stdout",
     "output_type": "stream",
     "text": [
      "Epoch    0/10 W: 0.000, b: 0.033 Cost: 4.535247\n",
      "Epoch    1/10 W: 0.920, b: 0.033 Cost: 0.020313\n",
      "Epoch    2/10 W: 0.981, b: 0.033 Cost: 0.000246\n",
      "Epoch    3/10 W: 0.986, b: 0.033 Cost: 0.000157\n",
      "Epoch    4/10 W: 0.986, b: 0.033 Cost: 0.000157\n",
      "Epoch    5/10 W: 0.986, b: 0.033 Cost: 0.000157\n",
      "Epoch    6/10 W: 0.986, b: 0.033 Cost: 0.000157\n",
      "Epoch    7/10 W: 0.986, b: 0.033 Cost: 0.000157\n",
      "Epoch    8/10 W: 0.986, b: 0.033 Cost: 0.000157\n",
      "Epoch    9/10 W: 0.986, b: 0.033 Cost: 0.000157\n",
      "Epoch   10/10 W: 0.986, b: 0.033 Cost: 0.000157\n"
     ]
    }
   ],
   "source": [
    "W = torch.zeros(1, requires_grad=True)\n",
    "\n",
    "optimizer = optim.SGD([W], lr=0.1)\n",
    "\n",
    "nb_epochs = 10\n",
    "for epoch in range(nb_epochs + 1):\n",
    "    \n",
    "    # H(x) 계산\n",
    "    hypothesis = x_train * W + b\n",
    "    \n",
    "    # cost 계산\n",
    "    cost = torch.mean((hypothesis - y_train) ** 2)\n",
    "\n",
    "    print('Epoch {:4d}/{} W: {:.3f}, b: {:.3f} Cost: {:.6f}'.format(\n",
    "        epoch, nb_epochs, W.item(), b.item(), cost.item()\n",
    "    ))\n",
    "    \n",
    "    optimizer.zero_grad() # gradient 초기화\n",
    "    cost.backward() # gradient 계산\n",
    "    optimizer.step() # 개선"
   ]
  },
  {
   "cell_type": "code",
   "execution_count": null,
   "metadata": {},
   "outputs": [],
   "source": []
  }
 ],
 "metadata": {
  "kernelspec": {
   "display_name": "Python 3",
   "language": "python",
   "name": "python3"
  },
  "language_info": {
   "codemirror_mode": {
    "name": "ipython",
    "version": 3
   },
   "file_extension": ".py",
   "mimetype": "text/x-python",
   "name": "python",
   "nbconvert_exporter": "python",
   "pygments_lexer": "ipython3",
   "version": "3.7.4"
  }
 },
 "nbformat": 4,
 "nbformat_minor": 2
}
