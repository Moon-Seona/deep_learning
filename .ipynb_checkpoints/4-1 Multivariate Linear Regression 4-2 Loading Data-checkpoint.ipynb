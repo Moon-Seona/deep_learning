{
 "cells": [
  {
   "cell_type": "markdown",
   "metadata": {},
   "source": [
    "## 4-1 Multivariate Linear Regression\n",
    "<img src=\"mlr.png\" width = \"70%\">"
   ]
  },
  {
   "cell_type": "code",
   "execution_count": 1,
   "metadata": {},
   "outputs": [],
   "source": [
    "import torch\n",
    "import torch.nn as nn\n",
    "import torch.nn.functional as F\n",
    "import torch.optim as optim"
   ]
  },
  {
   "cell_type": "markdown",
   "metadata": {},
   "source": [
    "### 1. set data"
   ]
  },
  {
   "cell_type": "code",
   "execution_count": 2,
   "metadata": {},
   "outputs": [],
   "source": [
    "x_train = torch.FloatTensor([[73, 80, 75],\n",
    "                                             [93, 88, 93],\n",
    "                                             [89, 91, 90],\n",
    "                                             [96, 98, 100],\n",
    "                                             [73, 66, 70]]) # 5x3\n",
    "y_train = torch.FloatTensor([[152], [185], [180], [196], [142]]) # 5x1"
   ]
  },
  {
   "cell_type": "markdown",
   "metadata": {},
   "source": [
    "### 2. weight, bias 초기화"
   ]
  },
  {
   "cell_type": "code",
   "execution_count": 3,
   "metadata": {},
   "outputs": [],
   "source": [
    "W = torch.zeros((3, 1), requires_grad=True)\n",
    "b = torch.zeros(1, requires_grad=True)"
   ]
  },
  {
   "cell_type": "markdown",
   "metadata": {},
   "source": [
    "### 3. set optimizer "
   ]
  },
  {
   "cell_type": "code",
   "execution_count": 4,
   "metadata": {},
   "outputs": [],
   "source": [
    "optimizer = optim.SGD([W, b], lr=1e-5)"
   ]
  },
  {
   "cell_type": "markdown",
   "metadata": {},
   "source": [
    "### 4. training"
   ]
  },
  {
   "cell_type": "code",
   "execution_count": 5,
   "metadata": {},
   "outputs": [
    {
     "name": "stdout",
     "output_type": "stream",
     "text": [
      "Epoch    0/20 hypothesis: tensor([0., 0., 0., 0., 0.], grad_fn=<SqueezeBackward0>) Cost: 29661.800781\n",
      "Epoch    1/20 hypothesis: tensor([67.2578, 80.8397, 79.6523, 86.7394, 61.6605],\n",
      "       grad_fn=<SqueezeBackward0>) Cost: 9298.520508\n",
      "Epoch    2/20 hypothesis: tensor([104.9128, 126.0990, 124.2466, 135.3015,  96.1821],\n",
      "       grad_fn=<SqueezeBackward0>) Cost: 2915.712646\n",
      "Epoch    3/20 hypothesis: tensor([125.9942, 151.4381, 149.2133, 162.4896, 115.5097],\n",
      "       grad_fn=<SqueezeBackward0>) Cost: 915.040527\n",
      "Epoch    4/20 hypothesis: tensor([137.7968, 165.6247, 163.1911, 177.7112, 126.3307],\n",
      "       grad_fn=<SqueezeBackward0>) Cost: 287.936005\n",
      "Epoch    5/20 hypothesis: tensor([144.4044, 173.5674, 171.0168, 186.2332, 132.3891],\n",
      "       grad_fn=<SqueezeBackward0>) Cost: 91.371017\n",
      "Epoch    6/20 hypothesis: tensor([148.1035, 178.0144, 175.3980, 191.0042, 135.7812],\n",
      "       grad_fn=<SqueezeBackward0>) Cost: 29.758139\n",
      "Epoch    7/20 hypothesis: tensor([150.1744, 180.5042, 177.8508, 193.6753, 137.6805],\n",
      "       grad_fn=<SqueezeBackward0>) Cost: 10.445305\n",
      "Epoch    8/20 hypothesis: tensor([151.3336, 181.8983, 179.2240, 195.1707, 138.7440],\n",
      "       grad_fn=<SqueezeBackward0>) Cost: 4.391228\n",
      "Epoch    9/20 hypothesis: tensor([151.9824, 182.6789, 179.9928, 196.0079, 139.3396],\n",
      "       grad_fn=<SqueezeBackward0>) Cost: 2.493135\n",
      "Epoch   10/20 hypothesis: tensor([152.3454, 183.1161, 180.4231, 196.4765, 139.6732],\n",
      "       grad_fn=<SqueezeBackward0>) Cost: 1.897688\n",
      "Epoch   11/20 hypothesis: tensor([152.5485, 183.3610, 180.6640, 196.7389, 139.8602],\n",
      "       grad_fn=<SqueezeBackward0>) Cost: 1.710541\n",
      "Epoch   12/20 hypothesis: tensor([152.6620, 183.4982, 180.7988, 196.8857, 139.9651],\n",
      "       grad_fn=<SqueezeBackward0>) Cost: 1.651413\n",
      "Epoch   13/20 hypothesis: tensor([152.7253, 183.5752, 180.8742, 196.9678, 140.0240],\n",
      "       grad_fn=<SqueezeBackward0>) Cost: 1.632387\n",
      "Epoch   14/20 hypothesis: tensor([152.7606, 183.6184, 180.9164, 197.0138, 140.0571],\n",
      "       grad_fn=<SqueezeBackward0>) Cost: 1.625923\n",
      "Epoch   15/20 hypothesis: tensor([152.7802, 183.6427, 180.9399, 197.0395, 140.0759],\n",
      "       grad_fn=<SqueezeBackward0>) Cost: 1.623412\n",
      "Epoch   16/20 hypothesis: tensor([152.7909, 183.6565, 180.9530, 197.0538, 140.0865],\n",
      "       grad_fn=<SqueezeBackward0>) Cost: 1.622141\n",
      "Epoch   17/20 hypothesis: tensor([152.7968, 183.6643, 180.9603, 197.0618, 140.0927],\n",
      "       grad_fn=<SqueezeBackward0>) Cost: 1.621253\n",
      "Epoch   18/20 hypothesis: tensor([152.7999, 183.6688, 180.9644, 197.0662, 140.0963],\n",
      "       grad_fn=<SqueezeBackward0>) Cost: 1.620500\n",
      "Epoch   19/20 hypothesis: tensor([152.8014, 183.6715, 180.9666, 197.0686, 140.0985],\n",
      "       grad_fn=<SqueezeBackward0>) Cost: 1.619770\n",
      "Epoch   20/20 hypothesis: tensor([152.8020, 183.6731, 180.9677, 197.0699, 140.1000],\n",
      "       grad_fn=<SqueezeBackward0>) Cost: 1.619033\n"
     ]
    }
   ],
   "source": [
    "nb_epochs = 20\n",
    "for epoch in range(nb_epochs + 1):\n",
    "    \n",
    "    # H(x) 계산\n",
    "    # 한번에 계산 -> 간결, 빠름\n",
    "    hypothesis = x_train.matmul(W) + b \n",
    "\n",
    "    # cost 계산, 기존 lr과 공식 동일\n",
    "    cost = torch.mean((hypothesis - y_train) ** 2)\n",
    "\n",
    "    # cost로 H(x) 개선\n",
    "    optimizer.zero_grad()\n",
    "    cost.backward()\n",
    "    optimizer.step()\n",
    "\n",
    "    #.detach(), item()\n",
    "    print('Epoch {:4d}/{} hypothesis: {} Cost: {:.6f}'.format(\n",
    "            epoch, nb_epochs, hypothesis.squeeze().detach(), cost.item()\n",
    "        ))"
   ]
  },
  {
   "cell_type": "markdown",
   "metadata": {},
   "source": [
    "### use nn.Module"
   ]
  },
  {
   "cell_type": "code",
   "execution_count": 6,
   "metadata": {},
   "outputs": [],
   "source": [
    "# nn.Moudule 상속\n",
    "class MultivariateLinearRegressionModel(nn.Module):\n",
    "    def __init__(self):\n",
    "        super().__init__()\n",
    "        \n",
    "        self.linear = nn.Linear(3, 1) # 입력차원 : 3, 출력 차원 : 1\n",
    "    \n",
    "    # hypothesis 계산\n",
    "    def forward(self, x):\n",
    "        return self.linear(x)"
   ]
  },
  {
   "cell_type": "code",
   "execution_count": 7,
   "metadata": {},
   "outputs": [],
   "source": [
    "x_train = torch.FloatTensor([[73, 80, 75],\n",
    "                                             [93, 88, 93],\n",
    "                                             [89, 91, 90],\n",
    "                                             [96, 98, 100],\n",
    "                                             [73, 66, 70]]) # 5x3\n",
    "y_train = torch.FloatTensor([[152], [185], [180], [196], [142]]) # 5x1"
   ]
  },
  {
   "cell_type": "code",
   "execution_count": 8,
   "metadata": {},
   "outputs": [
    {
     "name": "stdout",
     "output_type": "stream",
     "text": [
      "Epoch    0/20 Cost: 52329.074219\n",
      "Epoch    1/20 Cost: 16403.128906\n",
      "Epoch    2/20 Cost: 5142.250000\n",
      "Epoch    3/20 Cost: 1612.563843\n",
      "Epoch    4/20 Cost: 506.193451\n",
      "Epoch    5/20 Cost: 159.405289\n",
      "Epoch    6/20 Cost: 50.705193\n",
      "Epoch    7/20 Cost: 16.632938\n",
      "Epoch    8/20 Cost: 5.952977\n",
      "Epoch    9/20 Cost: 2.605037\n",
      "Epoch   10/20 Cost: 1.555364\n",
      "Epoch   11/20 Cost: 1.226085\n",
      "Epoch   12/20 Cost: 1.122596\n",
      "Epoch   13/20 Cost: 1.089863\n",
      "Epoch   14/20 Cost: 1.079336\n",
      "Epoch   15/20 Cost: 1.075760\n",
      "Epoch   16/20 Cost: 1.074353\n",
      "Epoch   17/20 Cost: 1.073645\n",
      "Epoch   18/20 Cost: 1.073140\n",
      "Epoch   19/20 Cost: 1.072717\n",
      "Epoch   20/20 Cost: 1.072298\n"
     ]
    }
   ],
   "source": [
    "# 모델 초기화\n",
    "model = MultivariateLinearRegressionModel()\n",
    "# optimizer 설정, model.parameters() 중 일부만 업데이트 선택가능\n",
    "optimizer = optim.SGD(model.parameters(), lr=1e-5)\n",
    "\n",
    "nb_epochs = 20\n",
    "for epoch in range(nb_epochs+1):\n",
    "    \n",
    "    # H(x) 계산\n",
    "    prediction = model(x_train)\n",
    "    \n",
    "    # cost 계산\n",
    "    cost = F.mse_loss(prediction, y_train)\n",
    "    \n",
    "    # cost로 H(x) 개선\n",
    "    optimizer.zero_grad()\n",
    "    cost.backward()\n",
    "    optimizer.step()\n",
    "    \n",
    "    print('Epoch {:4d}/{} Cost: {:.6f}'.format(\n",
    "        epoch, nb_epochs, cost.item()\n",
    "    ))"
   ]
  },
  {
   "cell_type": "markdown",
   "metadata": {},
   "source": [
    "### 4-2 Loading Data\n",
    "    - mini batch gradient descent\n",
    "   <img src=\"mini.png\">"
   ]
  },
  {
   "cell_type": "code",
   "execution_count": 9,
   "metadata": {},
   "outputs": [],
   "source": [
    "from torch.utils.data import Dataset\n",
    "\n",
    "class CustomDataset(Dataset):\n",
    "    def __init__(self):\n",
    "        self.x_data = [[73, 80, 75],\n",
    "                              [93, 88, 93],\n",
    "                              [89, 91, 90],\n",
    "                              [96, 98, 100],\n",
    "                              [73, 66, 70]]\n",
    "        self.y_data = [[152], [185], [180], [196], [142]]\n",
    "        \n",
    "    # 데이터셋의 총 데이터 수\n",
    "    def __len__(self):\n",
    "        return len(self.x_data)\n",
    "    \n",
    "    # 인덱스(idx)에 상응하는 입출력 데이터 반환\n",
    "    def __getitem__(self, idx):\n",
    "        x = torch.FloatTensor(self.x_data[idx])\n",
    "        y = torch.FloatTensor(self.y_data[idx])\n",
    "        \n",
    "        return x, y\n",
    "\n",
    "dataset = CustomDataset()"
   ]
  },
  {
   "cell_type": "code",
   "execution_count": 10,
   "metadata": {},
   "outputs": [],
   "source": [
    "from torch.utils.data import DataLoader\n",
    "\n",
    "dataloader = DataLoader(\n",
    "    dataset,\n",
    "    batch_size=2, # mini batch 크기, 통상적으로 2의 제곱수 설정\n",
    "    shuffle=True, # epoch마다 데이터를 섞어 학습 순서를 바꾼다.\n",
    ")"
   ]
  },
  {
   "cell_type": "code",
   "execution_count": 11,
   "metadata": {},
   "outputs": [
    {
     "name": "stdout",
     "output_type": "stream",
     "text": [
      "Epoch    0/20 Batch 1/3 Cost: 1.277818\n",
      "Epoch    0/20 Batch 2/3 Cost: 1.137947\n",
      "Epoch    0/20 Batch 3/3 Cost: 0.798413\n",
      "Epoch    1/20 Batch 1/3 Cost: 1.667681\n",
      "Epoch    1/20 Batch 2/3 Cost: 0.812515\n",
      "Epoch    1/20 Batch 3/3 Cost: 2.335343\n",
      "Epoch    2/20 Batch 1/3 Cost: 0.877132\n",
      "Epoch    2/20 Batch 2/3 Cost: 1.753293\n",
      "Epoch    2/20 Batch 3/3 Cost: 0.236129\n",
      "Epoch    3/20 Batch 1/3 Cost: 1.899709\n",
      "Epoch    3/20 Batch 2/3 Cost: 1.188036\n",
      "Epoch    3/20 Batch 3/3 Cost: 1.110950\n",
      "Epoch    4/20 Batch 1/3 Cost: 1.932301\n",
      "Epoch    4/20 Batch 2/3 Cost: 0.592520\n",
      "Epoch    4/20 Batch 3/3 Cost: 2.513117\n",
      "Epoch    5/20 Batch 1/3 Cost: 0.479776\n",
      "Epoch    5/20 Batch 2/3 Cost: 1.794568\n",
      "Epoch    5/20 Batch 3/3 Cost: 1.017071\n",
      "Epoch    6/20 Batch 1/3 Cost: 2.457901\n",
      "Epoch    6/20 Batch 2/3 Cost: 1.723419\n",
      "Epoch    6/20 Batch 3/3 Cost: 0.014909\n",
      "Epoch    7/20 Batch 1/3 Cost: 0.963804\n",
      "Epoch    7/20 Batch 2/3 Cost: 1.530631\n",
      "Epoch    7/20 Batch 3/3 Cost: 1.251554\n",
      "Epoch    8/20 Batch 1/3 Cost: 1.207062\n",
      "Epoch    8/20 Batch 2/3 Cost: 1.576057\n",
      "Epoch    8/20 Batch 3/3 Cost: 1.113428\n",
      "Epoch    9/20 Batch 1/3 Cost: 1.921066\n",
      "Epoch    9/20 Batch 2/3 Cost: 1.078025\n",
      "Epoch    9/20 Batch 3/3 Cost: 0.521725\n",
      "Epoch   10/20 Batch 1/3 Cost: 1.244223\n",
      "Epoch   10/20 Batch 2/3 Cost: 1.484313\n",
      "Epoch   10/20 Batch 3/3 Cost: 0.763384\n",
      "Epoch   11/20 Batch 1/3 Cost: 0.304025\n",
      "Epoch   11/20 Batch 2/3 Cost: 1.424815\n",
      "Epoch   11/20 Batch 3/3 Cost: 2.849613\n",
      "Epoch   12/20 Batch 1/3 Cost: 0.444350\n",
      "Epoch   12/20 Batch 2/3 Cost: 1.906139\n",
      "Epoch   12/20 Batch 3/3 Cost: 3.045967\n",
      "Epoch   13/20 Batch 1/3 Cost: 1.303176\n",
      "Epoch   13/20 Batch 2/3 Cost: 2.035376\n",
      "Epoch   13/20 Batch 3/3 Cost: 1.611748\n",
      "Epoch   14/20 Batch 1/3 Cost: 1.403707\n",
      "Epoch   14/20 Batch 2/3 Cost: 0.842346\n",
      "Epoch   14/20 Batch 3/3 Cost: 1.324663\n",
      "Epoch   15/20 Batch 1/3 Cost: 1.293959\n",
      "Epoch   15/20 Batch 2/3 Cost: 1.507049\n",
      "Epoch   15/20 Batch 3/3 Cost: 0.728541\n",
      "Epoch   16/20 Batch 1/3 Cost: 1.757072\n",
      "Epoch   16/20 Batch 2/3 Cost: 0.707359\n",
      "Epoch   16/20 Batch 3/3 Cost: 1.298729\n",
      "Epoch   17/20 Batch 1/3 Cost: 0.048865\n",
      "Epoch   17/20 Batch 2/3 Cost: 2.029907\n",
      "Epoch   17/20 Batch 3/3 Cost: 1.778375\n",
      "Epoch   18/20 Batch 1/3 Cost: 1.794718\n",
      "Epoch   18/20 Batch 2/3 Cost: 0.674549\n",
      "Epoch   18/20 Batch 3/3 Cost: 1.372075\n",
      "Epoch   19/20 Batch 1/3 Cost: 0.941980\n",
      "Epoch   19/20 Batch 2/3 Cost: 1.060535\n",
      "Epoch   19/20 Batch 3/3 Cost: 2.841223\n",
      "Epoch   20/20 Batch 1/3 Cost: 0.434411\n",
      "Epoch   20/20 Batch 2/3 Cost: 1.886477\n",
      "Epoch   20/20 Batch 3/3 Cost: 3.019765\n"
     ]
    }
   ],
   "source": [
    "nb_epochs = 20\n",
    "for epoch in range(nb_epochs + 1):\n",
    "    for batch_idx, samples in enumerate(dataloader):\n",
    "        x_train, y_train = samples\n",
    "        # H(x) 계산\n",
    "        prediction = model(x_train)\n",
    "        \n",
    "        # cost 계산\n",
    "        cost = F.mse_loss(prediction, y_train)\n",
    "        \n",
    "        # cost로 H(x) 개선\n",
    "        optimizer.zero_grad()\n",
    "        cost.backward()\n",
    "        optimizer.step()\n",
    "\n",
    "        print('Epoch {:4d}/{} Batch {}/{} Cost: {:.6f}'.format(\n",
    "                epoch, nb_epochs, batch_idx+1, len(dataloader),\n",
    "                cost.item()\n",
    "        ))"
   ]
  },
  {
   "cell_type": "code",
   "execution_count": null,
   "metadata": {},
   "outputs": [],
   "source": []
  }
 ],
 "metadata": {
  "kernelspec": {
   "display_name": "Python 3",
   "language": "python",
   "name": "python3"
  },
  "language_info": {
   "codemirror_mode": {
    "name": "ipython",
    "version": 3
   },
   "file_extension": ".py",
   "mimetype": "text/x-python",
   "name": "python",
   "nbconvert_exporter": "python",
   "pygments_lexer": "ipython3",
   "version": "3.7.4"
  }
 },
 "nbformat": 4,
 "nbformat_minor": 2
}
